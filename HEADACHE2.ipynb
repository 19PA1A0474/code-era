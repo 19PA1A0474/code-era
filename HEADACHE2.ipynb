{
  "nbformat": 4,
  "nbformat_minor": 0,
  "metadata": {
    "colab": {
      "name": "Welcome To Colaboratory",
      "provenance": [],
      "collapsed_sections": [],
      "toc_visible": true,
      "include_colab_link": true
    },
    "kernelspec": {
      "display_name": "Python 3",
      "name": "python3"
    }
  },
  "cells": [
    {
      "cell_type": "markdown",
      "metadata": {
        "id": "view-in-github",
        "colab_type": "text"
      },
      "source": [
        "<a href=\"https://colab.research.google.com/github/19PA1A0474/code-era/blob/master/HEADACHE2.ipynb\" target=\"_parent\"><img src=\"https://colab.research.google.com/assets/colab-badge.svg\" alt=\"Open In Colab\"/></a>"
      ]
    },
    {
      "cell_type": "markdown",
      "metadata": {
        "id": "9E_wIQjtrrxr",
        "colab_type": "text"
      },
      "source": [
        "# <center>**FACEBOOK DATA**</center>\n",
        "---\n",
        "\n",
        "<br>\n"
      ]
    },
    {
      "cell_type": "markdown",
      "metadata": {
        "colab_type": "text",
        "id": "5fCEDCU_qrC0"
      },
      "source": [
        "## PANDAS DATAFRAME"
      ]
    },
    {
      "cell_type": "code",
      "metadata": {
        "id": "vReBxaICXW0z",
        "colab_type": "code",
        "colab": {}
      },
      "source": [
        "import pandas as pd"
      ],
      "execution_count": 0,
      "outputs": []
    },
    {
      "cell_type": "markdown",
      "metadata": {
        "colab_type": "text",
        "id": "GJBs_flRovLc"
      },
      "source": [
        "## READING DATA"
      ]
    },
    {
      "cell_type": "code",
      "metadata": {
        "id": "vWw65iFjXVI-",
        "colab_type": "code",
        "colab": {}
      },
      "source": [
        "fb=pd.read_csv(\"facebook-data.zip\")"
      ],
      "execution_count": 0,
      "outputs": []
    },
    {
      "cell_type": "code",
      "metadata": {
        "colab_type": "code",
        "id": "gJr_9dXGpJ05",
        "outputId": "9c86c0c0-86f2-4d49-9dc5-f770b0476dbc",
        "colab": {
          "base_uri": "https://localhost:8080/",
          "height": 422
        }
      },
      "source": [
        "fb"
      ],
      "execution_count": 82,
      "outputs": [
        {
          "output_type": "execute_result",
          "data": {
            "text/html": [
              "<div>\n",
              "<style scoped>\n",
              "    .dataframe tbody tr th:only-of-type {\n",
              "        vertical-align: middle;\n",
              "    }\n",
              "\n",
              "    .dataframe tbody tr th {\n",
              "        vertical-align: top;\n",
              "    }\n",
              "\n",
              "    .dataframe thead th {\n",
              "        text-align: right;\n",
              "    }\n",
              "</style>\n",
              "<table border=\"1\" class=\"dataframe\">\n",
              "  <thead>\n",
              "    <tr style=\"text-align: right;\">\n",
              "      <th></th>\n",
              "      <th>userid</th>\n",
              "      <th>age</th>\n",
              "      <th>dob_day</th>\n",
              "      <th>dob_year</th>\n",
              "      <th>dob_month</th>\n",
              "      <th>gender</th>\n",
              "      <th>tenure</th>\n",
              "      <th>friend_count</th>\n",
              "      <th>friendships_initiated</th>\n",
              "      <th>likes</th>\n",
              "      <th>likes_received</th>\n",
              "      <th>mobile_likes</th>\n",
              "      <th>mobile_likes_received</th>\n",
              "      <th>www_likes</th>\n",
              "      <th>www_likes_received</th>\n",
              "    </tr>\n",
              "  </thead>\n",
              "  <tbody>\n",
              "    <tr>\n",
              "      <th>0</th>\n",
              "      <td>2094382</td>\n",
              "      <td>14</td>\n",
              "      <td>19</td>\n",
              "      <td>1999</td>\n",
              "      <td>11</td>\n",
              "      <td>male</td>\n",
              "      <td>266.0</td>\n",
              "      <td>0</td>\n",
              "      <td>0</td>\n",
              "      <td>0</td>\n",
              "      <td>0</td>\n",
              "      <td>0</td>\n",
              "      <td>0</td>\n",
              "      <td>0</td>\n",
              "      <td>0</td>\n",
              "    </tr>\n",
              "    <tr>\n",
              "      <th>1</th>\n",
              "      <td>1192601</td>\n",
              "      <td>14</td>\n",
              "      <td>2</td>\n",
              "      <td>1999</td>\n",
              "      <td>11</td>\n",
              "      <td>female</td>\n",
              "      <td>6.0</td>\n",
              "      <td>0</td>\n",
              "      <td>0</td>\n",
              "      <td>0</td>\n",
              "      <td>0</td>\n",
              "      <td>0</td>\n",
              "      <td>0</td>\n",
              "      <td>0</td>\n",
              "      <td>0</td>\n",
              "    </tr>\n",
              "    <tr>\n",
              "      <th>2</th>\n",
              "      <td>2083884</td>\n",
              "      <td>14</td>\n",
              "      <td>16</td>\n",
              "      <td>1999</td>\n",
              "      <td>11</td>\n",
              "      <td>male</td>\n",
              "      <td>13.0</td>\n",
              "      <td>0</td>\n",
              "      <td>0</td>\n",
              "      <td>0</td>\n",
              "      <td>0</td>\n",
              "      <td>0</td>\n",
              "      <td>0</td>\n",
              "      <td>0</td>\n",
              "      <td>0</td>\n",
              "    </tr>\n",
              "    <tr>\n",
              "      <th>3</th>\n",
              "      <td>1203168</td>\n",
              "      <td>14</td>\n",
              "      <td>25</td>\n",
              "      <td>1999</td>\n",
              "      <td>12</td>\n",
              "      <td>female</td>\n",
              "      <td>93.0</td>\n",
              "      <td>0</td>\n",
              "      <td>0</td>\n",
              "      <td>0</td>\n",
              "      <td>0</td>\n",
              "      <td>0</td>\n",
              "      <td>0</td>\n",
              "      <td>0</td>\n",
              "      <td>0</td>\n",
              "    </tr>\n",
              "    <tr>\n",
              "      <th>4</th>\n",
              "      <td>1733186</td>\n",
              "      <td>14</td>\n",
              "      <td>4</td>\n",
              "      <td>1999</td>\n",
              "      <td>12</td>\n",
              "      <td>male</td>\n",
              "      <td>82.0</td>\n",
              "      <td>0</td>\n",
              "      <td>0</td>\n",
              "      <td>0</td>\n",
              "      <td>0</td>\n",
              "      <td>0</td>\n",
              "      <td>0</td>\n",
              "      <td>0</td>\n",
              "      <td>0</td>\n",
              "    </tr>\n",
              "    <tr>\n",
              "      <th>...</th>\n",
              "      <td>...</td>\n",
              "      <td>...</td>\n",
              "      <td>...</td>\n",
              "      <td>...</td>\n",
              "      <td>...</td>\n",
              "      <td>...</td>\n",
              "      <td>...</td>\n",
              "      <td>...</td>\n",
              "      <td>...</td>\n",
              "      <td>...</td>\n",
              "      <td>...</td>\n",
              "      <td>...</td>\n",
              "      <td>...</td>\n",
              "      <td>...</td>\n",
              "      <td>...</td>\n",
              "    </tr>\n",
              "    <tr>\n",
              "      <th>98998</th>\n",
              "      <td>1268299</td>\n",
              "      <td>68</td>\n",
              "      <td>4</td>\n",
              "      <td>1945</td>\n",
              "      <td>4</td>\n",
              "      <td>female</td>\n",
              "      <td>541.0</td>\n",
              "      <td>2118</td>\n",
              "      <td>341</td>\n",
              "      <td>3996</td>\n",
              "      <td>18089</td>\n",
              "      <td>3505</td>\n",
              "      <td>11887</td>\n",
              "      <td>491</td>\n",
              "      <td>6202</td>\n",
              "    </tr>\n",
              "    <tr>\n",
              "      <th>98999</th>\n",
              "      <td>1256153</td>\n",
              "      <td>18</td>\n",
              "      <td>12</td>\n",
              "      <td>1995</td>\n",
              "      <td>3</td>\n",
              "      <td>female</td>\n",
              "      <td>21.0</td>\n",
              "      <td>1968</td>\n",
              "      <td>1720</td>\n",
              "      <td>4401</td>\n",
              "      <td>13412</td>\n",
              "      <td>4399</td>\n",
              "      <td>10592</td>\n",
              "      <td>2</td>\n",
              "      <td>2820</td>\n",
              "    </tr>\n",
              "    <tr>\n",
              "      <th>99000</th>\n",
              "      <td>1195943</td>\n",
              "      <td>15</td>\n",
              "      <td>10</td>\n",
              "      <td>1998</td>\n",
              "      <td>5</td>\n",
              "      <td>female</td>\n",
              "      <td>111.0</td>\n",
              "      <td>2002</td>\n",
              "      <td>1524</td>\n",
              "      <td>11959</td>\n",
              "      <td>12554</td>\n",
              "      <td>11959</td>\n",
              "      <td>11462</td>\n",
              "      <td>0</td>\n",
              "      <td>1092</td>\n",
              "    </tr>\n",
              "    <tr>\n",
              "      <th>99001</th>\n",
              "      <td>1468023</td>\n",
              "      <td>23</td>\n",
              "      <td>11</td>\n",
              "      <td>1990</td>\n",
              "      <td>4</td>\n",
              "      <td>female</td>\n",
              "      <td>416.0</td>\n",
              "      <td>2560</td>\n",
              "      <td>185</td>\n",
              "      <td>4506</td>\n",
              "      <td>6516</td>\n",
              "      <td>4506</td>\n",
              "      <td>5760</td>\n",
              "      <td>0</td>\n",
              "      <td>756</td>\n",
              "    </tr>\n",
              "    <tr>\n",
              "      <th>99002</th>\n",
              "      <td>1397896</td>\n",
              "      <td>39</td>\n",
              "      <td>15</td>\n",
              "      <td>1974</td>\n",
              "      <td>5</td>\n",
              "      <td>female</td>\n",
              "      <td>397.0</td>\n",
              "      <td>2049</td>\n",
              "      <td>768</td>\n",
              "      <td>9410</td>\n",
              "      <td>12443</td>\n",
              "      <td>9410</td>\n",
              "      <td>9530</td>\n",
              "      <td>0</td>\n",
              "      <td>2913</td>\n",
              "    </tr>\n",
              "  </tbody>\n",
              "</table>\n",
              "<p>99003 rows × 15 columns</p>\n",
              "</div>"
            ],
            "text/plain": [
              "        userid  age  ...  www_likes  www_likes_received\n",
              "0      2094382   14  ...          0                   0\n",
              "1      1192601   14  ...          0                   0\n",
              "2      2083884   14  ...          0                   0\n",
              "3      1203168   14  ...          0                   0\n",
              "4      1733186   14  ...          0                   0\n",
              "...        ...  ...  ...        ...                 ...\n",
              "98998  1268299   68  ...        491                6202\n",
              "98999  1256153   18  ...          2                2820\n",
              "99000  1195943   15  ...          0                1092\n",
              "99001  1468023   23  ...          0                 756\n",
              "99002  1397896   39  ...          0                2913\n",
              "\n",
              "[99003 rows x 15 columns]"
            ]
          },
          "metadata": {
            "tags": []
          },
          "execution_count": 82
        }
      ]
    },
    {
      "cell_type": "code",
      "metadata": {
        "id": "ZP4vxjhoRSFM",
        "colab_type": "code",
        "colab": {}
      },
      "source": [
        ""
      ],
      "execution_count": 0,
      "outputs": []
    },
    {
      "cell_type": "markdown",
      "metadata": {
        "id": "Z4HVQfMDYStw",
        "colab_type": "text"
      },
      "source": [
        "# checking dimensions"
      ]
    },
    {
      "cell_type": "markdown",
      "metadata": {
        "id": "qGCnZ-MTYsFe",
        "colab_type": "text"
      },
      "source": [
        "By using the shape method on data frame we get the dimensions"
      ]
    },
    {
      "cell_type": "code",
      "metadata": {
        "colab_type": "code",
        "id": "-gE-Ez1qtyIA",
        "outputId": "570fe718-37b3-4205-8800-5b64d302c41e",
        "colab": {
          "base_uri": "https://localhost:8080/",
          "height": 34
        }
      },
      "source": [
        "print(fb.shape)"
      ],
      "execution_count": 88,
      "outputs": [
        {
          "output_type": "stream",
          "text": [
            "(99003, 15)\n"
          ],
          "name": "stdout"
        }
      ]
    },
    {
      "cell_type": "markdown",
      "metadata": {
        "colab_type": "text",
        "id": "UdRyKR44dcNI"
      },
      "source": [
        "## Head method\n",
        "\n",
        "we can print the top values of the dataframe using head method"
      ]
    },
    {
      "cell_type": "code",
      "metadata": {
        "id": "XbbU6pmBbBtU",
        "colab_type": "code",
        "outputId": "83304883-f7d1-4d69-cc93-029044248e61",
        "colab": {
          "base_uri": "https://localhost:8080/",
          "height": 215
        }
      },
      "source": [
        "##getting top 5 values using head method\n",
        "fb.head(5)"
      ],
      "execution_count": 89,
      "outputs": [
        {
          "output_type": "execute_result",
          "data": {
            "text/html": [
              "<div>\n",
              "<style scoped>\n",
              "    .dataframe tbody tr th:only-of-type {\n",
              "        vertical-align: middle;\n",
              "    }\n",
              "\n",
              "    .dataframe tbody tr th {\n",
              "        vertical-align: top;\n",
              "    }\n",
              "\n",
              "    .dataframe thead th {\n",
              "        text-align: right;\n",
              "    }\n",
              "</style>\n",
              "<table border=\"1\" class=\"dataframe\">\n",
              "  <thead>\n",
              "    <tr style=\"text-align: right;\">\n",
              "      <th></th>\n",
              "      <th>userid</th>\n",
              "      <th>age</th>\n",
              "      <th>dob_day</th>\n",
              "      <th>dob_year</th>\n",
              "      <th>dob_month</th>\n",
              "      <th>gender</th>\n",
              "      <th>tenure</th>\n",
              "      <th>friend_count</th>\n",
              "      <th>friendships_initiated</th>\n",
              "      <th>likes</th>\n",
              "      <th>likes_received</th>\n",
              "      <th>mobile_likes</th>\n",
              "      <th>mobile_likes_received</th>\n",
              "      <th>www_likes</th>\n",
              "      <th>www_likes_received</th>\n",
              "    </tr>\n",
              "  </thead>\n",
              "  <tbody>\n",
              "    <tr>\n",
              "      <th>0</th>\n",
              "      <td>2094382</td>\n",
              "      <td>14</td>\n",
              "      <td>19</td>\n",
              "      <td>1999</td>\n",
              "      <td>11</td>\n",
              "      <td>male</td>\n",
              "      <td>266.0</td>\n",
              "      <td>0</td>\n",
              "      <td>0</td>\n",
              "      <td>0</td>\n",
              "      <td>0</td>\n",
              "      <td>0</td>\n",
              "      <td>0</td>\n",
              "      <td>0</td>\n",
              "      <td>0</td>\n",
              "    </tr>\n",
              "    <tr>\n",
              "      <th>1</th>\n",
              "      <td>1192601</td>\n",
              "      <td>14</td>\n",
              "      <td>2</td>\n",
              "      <td>1999</td>\n",
              "      <td>11</td>\n",
              "      <td>female</td>\n",
              "      <td>6.0</td>\n",
              "      <td>0</td>\n",
              "      <td>0</td>\n",
              "      <td>0</td>\n",
              "      <td>0</td>\n",
              "      <td>0</td>\n",
              "      <td>0</td>\n",
              "      <td>0</td>\n",
              "      <td>0</td>\n",
              "    </tr>\n",
              "    <tr>\n",
              "      <th>2</th>\n",
              "      <td>2083884</td>\n",
              "      <td>14</td>\n",
              "      <td>16</td>\n",
              "      <td>1999</td>\n",
              "      <td>11</td>\n",
              "      <td>male</td>\n",
              "      <td>13.0</td>\n",
              "      <td>0</td>\n",
              "      <td>0</td>\n",
              "      <td>0</td>\n",
              "      <td>0</td>\n",
              "      <td>0</td>\n",
              "      <td>0</td>\n",
              "      <td>0</td>\n",
              "      <td>0</td>\n",
              "    </tr>\n",
              "    <tr>\n",
              "      <th>3</th>\n",
              "      <td>1203168</td>\n",
              "      <td>14</td>\n",
              "      <td>25</td>\n",
              "      <td>1999</td>\n",
              "      <td>12</td>\n",
              "      <td>female</td>\n",
              "      <td>93.0</td>\n",
              "      <td>0</td>\n",
              "      <td>0</td>\n",
              "      <td>0</td>\n",
              "      <td>0</td>\n",
              "      <td>0</td>\n",
              "      <td>0</td>\n",
              "      <td>0</td>\n",
              "      <td>0</td>\n",
              "    </tr>\n",
              "    <tr>\n",
              "      <th>4</th>\n",
              "      <td>1733186</td>\n",
              "      <td>14</td>\n",
              "      <td>4</td>\n",
              "      <td>1999</td>\n",
              "      <td>12</td>\n",
              "      <td>male</td>\n",
              "      <td>82.0</td>\n",
              "      <td>0</td>\n",
              "      <td>0</td>\n",
              "      <td>0</td>\n",
              "      <td>0</td>\n",
              "      <td>0</td>\n",
              "      <td>0</td>\n",
              "      <td>0</td>\n",
              "      <td>0</td>\n",
              "    </tr>\n",
              "  </tbody>\n",
              "</table>\n",
              "</div>"
            ],
            "text/plain": [
              "    userid  age  dob_day  ...  mobile_likes_received  www_likes www_likes_received\n",
              "0  2094382   14       19  ...                      0          0                  0\n",
              "1  1192601   14        2  ...                      0          0                  0\n",
              "2  2083884   14       16  ...                      0          0                  0\n",
              "3  1203168   14       25  ...                      0          0                  0\n",
              "4  1733186   14        4  ...                      0          0                  0\n",
              "\n",
              "[5 rows x 15 columns]"
            ]
          },
          "metadata": {
            "tags": []
          },
          "execution_count": 89
        }
      ]
    },
    {
      "cell_type": "markdown",
      "metadata": {
        "id": "corJXowYEZKm",
        "colab_type": "text"
      },
      "source": [
        "# Tail method\n",
        "we can print the bottom values of the dataframe using tail method"
      ]
    },
    {
      "cell_type": "code",
      "metadata": {
        "id": "rYTpNnmEFMCy",
        "colab_type": "code",
        "outputId": "ad9de987-0dae-4fc3-d5f6-3e8f832c8438",
        "colab": {
          "base_uri": "https://localhost:8080/",
          "height": 215
        }
      },
      "source": [
        "##getting bottom values using tail method\n",
        "fb.tail(5)"
      ],
      "execution_count": 90,
      "outputs": [
        {
          "output_type": "execute_result",
          "data": {
            "text/html": [
              "<div>\n",
              "<style scoped>\n",
              "    .dataframe tbody tr th:only-of-type {\n",
              "        vertical-align: middle;\n",
              "    }\n",
              "\n",
              "    .dataframe tbody tr th {\n",
              "        vertical-align: top;\n",
              "    }\n",
              "\n",
              "    .dataframe thead th {\n",
              "        text-align: right;\n",
              "    }\n",
              "</style>\n",
              "<table border=\"1\" class=\"dataframe\">\n",
              "  <thead>\n",
              "    <tr style=\"text-align: right;\">\n",
              "      <th></th>\n",
              "      <th>userid</th>\n",
              "      <th>age</th>\n",
              "      <th>dob_day</th>\n",
              "      <th>dob_year</th>\n",
              "      <th>dob_month</th>\n",
              "      <th>gender</th>\n",
              "      <th>tenure</th>\n",
              "      <th>friend_count</th>\n",
              "      <th>friendships_initiated</th>\n",
              "      <th>likes</th>\n",
              "      <th>likes_received</th>\n",
              "      <th>mobile_likes</th>\n",
              "      <th>mobile_likes_received</th>\n",
              "      <th>www_likes</th>\n",
              "      <th>www_likes_received</th>\n",
              "    </tr>\n",
              "  </thead>\n",
              "  <tbody>\n",
              "    <tr>\n",
              "      <th>98998</th>\n",
              "      <td>1268299</td>\n",
              "      <td>68</td>\n",
              "      <td>4</td>\n",
              "      <td>1945</td>\n",
              "      <td>4</td>\n",
              "      <td>female</td>\n",
              "      <td>541.0</td>\n",
              "      <td>2118</td>\n",
              "      <td>341</td>\n",
              "      <td>3996</td>\n",
              "      <td>18089</td>\n",
              "      <td>3505</td>\n",
              "      <td>11887</td>\n",
              "      <td>491</td>\n",
              "      <td>6202</td>\n",
              "    </tr>\n",
              "    <tr>\n",
              "      <th>98999</th>\n",
              "      <td>1256153</td>\n",
              "      <td>18</td>\n",
              "      <td>12</td>\n",
              "      <td>1995</td>\n",
              "      <td>3</td>\n",
              "      <td>female</td>\n",
              "      <td>21.0</td>\n",
              "      <td>1968</td>\n",
              "      <td>1720</td>\n",
              "      <td>4401</td>\n",
              "      <td>13412</td>\n",
              "      <td>4399</td>\n",
              "      <td>10592</td>\n",
              "      <td>2</td>\n",
              "      <td>2820</td>\n",
              "    </tr>\n",
              "    <tr>\n",
              "      <th>99000</th>\n",
              "      <td>1195943</td>\n",
              "      <td>15</td>\n",
              "      <td>10</td>\n",
              "      <td>1998</td>\n",
              "      <td>5</td>\n",
              "      <td>female</td>\n",
              "      <td>111.0</td>\n",
              "      <td>2002</td>\n",
              "      <td>1524</td>\n",
              "      <td>11959</td>\n",
              "      <td>12554</td>\n",
              "      <td>11959</td>\n",
              "      <td>11462</td>\n",
              "      <td>0</td>\n",
              "      <td>1092</td>\n",
              "    </tr>\n",
              "    <tr>\n",
              "      <th>99001</th>\n",
              "      <td>1468023</td>\n",
              "      <td>23</td>\n",
              "      <td>11</td>\n",
              "      <td>1990</td>\n",
              "      <td>4</td>\n",
              "      <td>female</td>\n",
              "      <td>416.0</td>\n",
              "      <td>2560</td>\n",
              "      <td>185</td>\n",
              "      <td>4506</td>\n",
              "      <td>6516</td>\n",
              "      <td>4506</td>\n",
              "      <td>5760</td>\n",
              "      <td>0</td>\n",
              "      <td>756</td>\n",
              "    </tr>\n",
              "    <tr>\n",
              "      <th>99002</th>\n",
              "      <td>1397896</td>\n",
              "      <td>39</td>\n",
              "      <td>15</td>\n",
              "      <td>1974</td>\n",
              "      <td>5</td>\n",
              "      <td>female</td>\n",
              "      <td>397.0</td>\n",
              "      <td>2049</td>\n",
              "      <td>768</td>\n",
              "      <td>9410</td>\n",
              "      <td>12443</td>\n",
              "      <td>9410</td>\n",
              "      <td>9530</td>\n",
              "      <td>0</td>\n",
              "      <td>2913</td>\n",
              "    </tr>\n",
              "  </tbody>\n",
              "</table>\n",
              "</div>"
            ],
            "text/plain": [
              "        userid  age  ...  www_likes  www_likes_received\n",
              "98998  1268299   68  ...        491                6202\n",
              "98999  1256153   18  ...          2                2820\n",
              "99000  1195943   15  ...          0                1092\n",
              "99001  1468023   23  ...          0                 756\n",
              "99002  1397896   39  ...          0                2913\n",
              "\n",
              "[5 rows x 15 columns]"
            ]
          },
          "metadata": {
            "tags": []
          },
          "execution_count": 90
        }
      ]
    },
    {
      "cell_type": "markdown",
      "metadata": {
        "colab_type": "text",
        "id": "4_kCnsPUqS6o"
      },
      "source": [
        "You can import your own data into Colab notebooks from your Google Drive account, including from spreadsheets, as well as from Github and many other sources. To learn more about importing data, and how Colab can be used for data science, see the links below under [Working with Data](#working-with-data)."
      ]
    },
    {
      "cell_type": "markdown",
      "metadata": {
        "id": "iHUYCHZ8bp-W",
        "colab_type": "text"
      },
      "source": [
        "##COLUMN NAMES\n",
        "we can get names of the columns in the dataframe"
      ]
    },
    {
      "cell_type": "code",
      "metadata": {
        "id": "SsV7Hriib3tH",
        "colab_type": "code",
        "outputId": "fb039677-fa71-4790-9a5c-9cc605f5b296",
        "colab": {
          "base_uri": "https://localhost:8080/",
          "height": 101
        }
      },
      "source": [
        "print(fb.columns)"
      ],
      "execution_count": 91,
      "outputs": [
        {
          "output_type": "stream",
          "text": [
            "Index(['userid', 'age', 'dob_day', 'dob_year', 'dob_month', 'gender', 'tenure',\n",
            "       'friend_count', 'friendships_initiated', 'likes', 'likes_received',\n",
            "       'mobile_likes', 'mobile_likes_received', 'www_likes',\n",
            "       'www_likes_received'],\n",
            "      dtype='object')\n"
          ],
          "name": "stdout"
        }
      ]
    },
    {
      "cell_type": "markdown",
      "metadata": {
        "colab_type": "text",
        "id": "OwuxHmxllTwN"
      },
      "source": [
        "## dtypes\n"
      ]
    },
    {
      "cell_type": "code",
      "metadata": {
        "id": "0KI_kzvqcus0",
        "colab_type": "code",
        "outputId": "9e87b817-4899-433d-dd99-509072d9693c",
        "colab": {
          "base_uri": "https://localhost:8080/",
          "height": 286
        }
      },
      "source": [
        "## .dtypes gives data types for each column\n",
        "print(fb.dtypes)"
      ],
      "execution_count": 92,
      "outputs": [
        {
          "output_type": "stream",
          "text": [
            "userid                     int64\n",
            "age                        int64\n",
            "dob_day                    int64\n",
            "dob_year                   int64\n",
            "dob_month                  int64\n",
            "gender                    object\n",
            "tenure                   float64\n",
            "friend_count               int64\n",
            "friendships_initiated      int64\n",
            "likes                      int64\n",
            "likes_received             int64\n",
            "mobile_likes               int64\n",
            "mobile_likes_received      int64\n",
            "www_likes                  int64\n",
            "www_likes_received         int64\n",
            "dtype: object\n"
          ],
          "name": "stdout"
        }
      ]
    },
    {
      "cell_type": "markdown",
      "metadata": {
        "colab_type": "text",
        "id": "ufxBm1yRnruN"
      },
      "source": [
        "##setting user_id as row index\n"
      ]
    },
    {
      "cell_type": "code",
      "metadata": {
        "id": "NY0cgKNLePsZ",
        "colab_type": "code",
        "outputId": "f49f3054-c4c3-4767-b153-597190a7f5ef",
        "colab": {
          "base_uri": "https://localhost:8080/",
          "height": 186
        }
      },
      "source": [
        "fb.set_index(['userid'],inplace=True)\n",
        "fb.head(3)"
      ],
      "execution_count": 93,
      "outputs": [
        {
          "output_type": "execute_result",
          "data": {
            "text/html": [
              "<div>\n",
              "<style scoped>\n",
              "    .dataframe tbody tr th:only-of-type {\n",
              "        vertical-align: middle;\n",
              "    }\n",
              "\n",
              "    .dataframe tbody tr th {\n",
              "        vertical-align: top;\n",
              "    }\n",
              "\n",
              "    .dataframe thead th {\n",
              "        text-align: right;\n",
              "    }\n",
              "</style>\n",
              "<table border=\"1\" class=\"dataframe\">\n",
              "  <thead>\n",
              "    <tr style=\"text-align: right;\">\n",
              "      <th></th>\n",
              "      <th>age</th>\n",
              "      <th>dob_day</th>\n",
              "      <th>dob_year</th>\n",
              "      <th>dob_month</th>\n",
              "      <th>gender</th>\n",
              "      <th>tenure</th>\n",
              "      <th>friend_count</th>\n",
              "      <th>friendships_initiated</th>\n",
              "      <th>likes</th>\n",
              "      <th>likes_received</th>\n",
              "      <th>mobile_likes</th>\n",
              "      <th>mobile_likes_received</th>\n",
              "      <th>www_likes</th>\n",
              "      <th>www_likes_received</th>\n",
              "    </tr>\n",
              "    <tr>\n",
              "      <th>userid</th>\n",
              "      <th></th>\n",
              "      <th></th>\n",
              "      <th></th>\n",
              "      <th></th>\n",
              "      <th></th>\n",
              "      <th></th>\n",
              "      <th></th>\n",
              "      <th></th>\n",
              "      <th></th>\n",
              "      <th></th>\n",
              "      <th></th>\n",
              "      <th></th>\n",
              "      <th></th>\n",
              "      <th></th>\n",
              "    </tr>\n",
              "  </thead>\n",
              "  <tbody>\n",
              "    <tr>\n",
              "      <th>2094382</th>\n",
              "      <td>14</td>\n",
              "      <td>19</td>\n",
              "      <td>1999</td>\n",
              "      <td>11</td>\n",
              "      <td>male</td>\n",
              "      <td>266.0</td>\n",
              "      <td>0</td>\n",
              "      <td>0</td>\n",
              "      <td>0</td>\n",
              "      <td>0</td>\n",
              "      <td>0</td>\n",
              "      <td>0</td>\n",
              "      <td>0</td>\n",
              "      <td>0</td>\n",
              "    </tr>\n",
              "    <tr>\n",
              "      <th>1192601</th>\n",
              "      <td>14</td>\n",
              "      <td>2</td>\n",
              "      <td>1999</td>\n",
              "      <td>11</td>\n",
              "      <td>female</td>\n",
              "      <td>6.0</td>\n",
              "      <td>0</td>\n",
              "      <td>0</td>\n",
              "      <td>0</td>\n",
              "      <td>0</td>\n",
              "      <td>0</td>\n",
              "      <td>0</td>\n",
              "      <td>0</td>\n",
              "      <td>0</td>\n",
              "    </tr>\n",
              "    <tr>\n",
              "      <th>2083884</th>\n",
              "      <td>14</td>\n",
              "      <td>16</td>\n",
              "      <td>1999</td>\n",
              "      <td>11</td>\n",
              "      <td>male</td>\n",
              "      <td>13.0</td>\n",
              "      <td>0</td>\n",
              "      <td>0</td>\n",
              "      <td>0</td>\n",
              "      <td>0</td>\n",
              "      <td>0</td>\n",
              "      <td>0</td>\n",
              "      <td>0</td>\n",
              "      <td>0</td>\n",
              "    </tr>\n",
              "  </tbody>\n",
              "</table>\n",
              "</div>"
            ],
            "text/plain": [
              "         age  dob_day  ...  www_likes  www_likes_received\n",
              "userid                 ...                               \n",
              "2094382   14       19  ...          0                   0\n",
              "1192601   14        2  ...          0                   0\n",
              "2083884   14       16  ...          0                   0\n",
              "\n",
              "[3 rows x 14 columns]"
            ]
          },
          "metadata": {
            "tags": []
          },
          "execution_count": 93
        }
      ]
    },
    {
      "cell_type": "markdown",
      "metadata": {
        "id": "fOEGc9u1g5L2",
        "colab_type": "text"
      },
      "source": [
        "## Summary statistics\n"
      ]
    },
    {
      "cell_type": "code",
      "metadata": {
        "id": "Qdzqcvr-h0QS",
        "colab_type": "code",
        "outputId": "c3ee1b78-8b34-4207-eeee-1e667e0c1e79",
        "colab": {
          "base_uri": "https://localhost:8080/",
          "height": 304
        }
      },
      "source": [
        "fb.describe()"
      ],
      "execution_count": 94,
      "outputs": [
        {
          "output_type": "execute_result",
          "data": {
            "text/html": [
              "<div>\n",
              "<style scoped>\n",
              "    .dataframe tbody tr th:only-of-type {\n",
              "        vertical-align: middle;\n",
              "    }\n",
              "\n",
              "    .dataframe tbody tr th {\n",
              "        vertical-align: top;\n",
              "    }\n",
              "\n",
              "    .dataframe thead th {\n",
              "        text-align: right;\n",
              "    }\n",
              "</style>\n",
              "<table border=\"1\" class=\"dataframe\">\n",
              "  <thead>\n",
              "    <tr style=\"text-align: right;\">\n",
              "      <th></th>\n",
              "      <th>age</th>\n",
              "      <th>dob_day</th>\n",
              "      <th>dob_year</th>\n",
              "      <th>dob_month</th>\n",
              "      <th>tenure</th>\n",
              "      <th>friend_count</th>\n",
              "      <th>friendships_initiated</th>\n",
              "      <th>likes</th>\n",
              "      <th>likes_received</th>\n",
              "      <th>mobile_likes</th>\n",
              "      <th>mobile_likes_received</th>\n",
              "      <th>www_likes</th>\n",
              "      <th>www_likes_received</th>\n",
              "    </tr>\n",
              "  </thead>\n",
              "  <tbody>\n",
              "    <tr>\n",
              "      <th>count</th>\n",
              "      <td>99003.000000</td>\n",
              "      <td>99003.000000</td>\n",
              "      <td>99003.000000</td>\n",
              "      <td>99003.000000</td>\n",
              "      <td>99001.000000</td>\n",
              "      <td>99003.000000</td>\n",
              "      <td>99003.000000</td>\n",
              "      <td>99003.000000</td>\n",
              "      <td>99003.000000</td>\n",
              "      <td>99003.000000</td>\n",
              "      <td>99003.000000</td>\n",
              "      <td>99003.000000</td>\n",
              "      <td>99003.000000</td>\n",
              "    </tr>\n",
              "    <tr>\n",
              "      <th>mean</th>\n",
              "      <td>37.280224</td>\n",
              "      <td>14.530408</td>\n",
              "      <td>1975.719776</td>\n",
              "      <td>6.283365</td>\n",
              "      <td>537.887375</td>\n",
              "      <td>196.350787</td>\n",
              "      <td>107.452471</td>\n",
              "      <td>156.078785</td>\n",
              "      <td>142.689363</td>\n",
              "      <td>106.116300</td>\n",
              "      <td>84.120491</td>\n",
              "      <td>49.962425</td>\n",
              "      <td>58.568831</td>\n",
              "    </tr>\n",
              "    <tr>\n",
              "      <th>std</th>\n",
              "      <td>22.589748</td>\n",
              "      <td>9.015606</td>\n",
              "      <td>22.589748</td>\n",
              "      <td>3.529672</td>\n",
              "      <td>457.649874</td>\n",
              "      <td>387.304229</td>\n",
              "      <td>188.786951</td>\n",
              "      <td>572.280681</td>\n",
              "      <td>1387.919613</td>\n",
              "      <td>445.252985</td>\n",
              "      <td>839.889444</td>\n",
              "      <td>285.560152</td>\n",
              "      <td>601.416348</td>\n",
              "    </tr>\n",
              "    <tr>\n",
              "      <th>min</th>\n",
              "      <td>13.000000</td>\n",
              "      <td>1.000000</td>\n",
              "      <td>1900.000000</td>\n",
              "      <td>1.000000</td>\n",
              "      <td>0.000000</td>\n",
              "      <td>0.000000</td>\n",
              "      <td>0.000000</td>\n",
              "      <td>0.000000</td>\n",
              "      <td>0.000000</td>\n",
              "      <td>0.000000</td>\n",
              "      <td>0.000000</td>\n",
              "      <td>0.000000</td>\n",
              "      <td>0.000000</td>\n",
              "    </tr>\n",
              "    <tr>\n",
              "      <th>25%</th>\n",
              "      <td>20.000000</td>\n",
              "      <td>7.000000</td>\n",
              "      <td>1963.000000</td>\n",
              "      <td>3.000000</td>\n",
              "      <td>226.000000</td>\n",
              "      <td>31.000000</td>\n",
              "      <td>17.000000</td>\n",
              "      <td>1.000000</td>\n",
              "      <td>1.000000</td>\n",
              "      <td>0.000000</td>\n",
              "      <td>0.000000</td>\n",
              "      <td>0.000000</td>\n",
              "      <td>0.000000</td>\n",
              "    </tr>\n",
              "    <tr>\n",
              "      <th>50%</th>\n",
              "      <td>28.000000</td>\n",
              "      <td>14.000000</td>\n",
              "      <td>1985.000000</td>\n",
              "      <td>6.000000</td>\n",
              "      <td>412.000000</td>\n",
              "      <td>82.000000</td>\n",
              "      <td>46.000000</td>\n",
              "      <td>11.000000</td>\n",
              "      <td>8.000000</td>\n",
              "      <td>4.000000</td>\n",
              "      <td>4.000000</td>\n",
              "      <td>0.000000</td>\n",
              "      <td>2.000000</td>\n",
              "    </tr>\n",
              "    <tr>\n",
              "      <th>75%</th>\n",
              "      <td>50.000000</td>\n",
              "      <td>22.000000</td>\n",
              "      <td>1993.000000</td>\n",
              "      <td>9.000000</td>\n",
              "      <td>675.000000</td>\n",
              "      <td>206.000000</td>\n",
              "      <td>117.000000</td>\n",
              "      <td>81.000000</td>\n",
              "      <td>59.000000</td>\n",
              "      <td>46.000000</td>\n",
              "      <td>33.000000</td>\n",
              "      <td>7.000000</td>\n",
              "      <td>20.000000</td>\n",
              "    </tr>\n",
              "    <tr>\n",
              "      <th>max</th>\n",
              "      <td>113.000000</td>\n",
              "      <td>31.000000</td>\n",
              "      <td>2000.000000</td>\n",
              "      <td>12.000000</td>\n",
              "      <td>3139.000000</td>\n",
              "      <td>4923.000000</td>\n",
              "      <td>4144.000000</td>\n",
              "      <td>25111.000000</td>\n",
              "      <td>261197.000000</td>\n",
              "      <td>25111.000000</td>\n",
              "      <td>138561.000000</td>\n",
              "      <td>14865.000000</td>\n",
              "      <td>129953.000000</td>\n",
              "    </tr>\n",
              "  </tbody>\n",
              "</table>\n",
              "</div>"
            ],
            "text/plain": [
              "                age       dob_day  ...     www_likes  www_likes_received\n",
              "count  99003.000000  99003.000000  ...  99003.000000        99003.000000\n",
              "mean      37.280224     14.530408  ...     49.962425           58.568831\n",
              "std       22.589748      9.015606  ...    285.560152          601.416348\n",
              "min       13.000000      1.000000  ...      0.000000            0.000000\n",
              "25%       20.000000      7.000000  ...      0.000000            0.000000\n",
              "50%       28.000000     14.000000  ...      0.000000            2.000000\n",
              "75%       50.000000     22.000000  ...      7.000000           20.000000\n",
              "max      113.000000     31.000000  ...  14865.000000       129953.000000\n",
              "\n",
              "[8 rows x 13 columns]"
            ]
          },
          "metadata": {
            "tags": []
          },
          "execution_count": 94
        }
      ]
    },
    {
      "cell_type": "code",
      "metadata": {
        "id": "QRoZur7XU42u",
        "colab_type": "code",
        "outputId": "086ae2cd-98ee-43aa-e76c-08b70470f86a",
        "colab": {
          "base_uri": "https://localhost:8080/",
          "height": 393
        }
      },
      "source": [
        "fb.describe(include=\"all\")"
      ],
      "execution_count": 95,
      "outputs": [
        {
          "output_type": "execute_result",
          "data": {
            "text/html": [
              "<div>\n",
              "<style scoped>\n",
              "    .dataframe tbody tr th:only-of-type {\n",
              "        vertical-align: middle;\n",
              "    }\n",
              "\n",
              "    .dataframe tbody tr th {\n",
              "        vertical-align: top;\n",
              "    }\n",
              "\n",
              "    .dataframe thead th {\n",
              "        text-align: right;\n",
              "    }\n",
              "</style>\n",
              "<table border=\"1\" class=\"dataframe\">\n",
              "  <thead>\n",
              "    <tr style=\"text-align: right;\">\n",
              "      <th></th>\n",
              "      <th>age</th>\n",
              "      <th>dob_day</th>\n",
              "      <th>dob_year</th>\n",
              "      <th>dob_month</th>\n",
              "      <th>gender</th>\n",
              "      <th>tenure</th>\n",
              "      <th>friend_count</th>\n",
              "      <th>friendships_initiated</th>\n",
              "      <th>likes</th>\n",
              "      <th>likes_received</th>\n",
              "      <th>mobile_likes</th>\n",
              "      <th>mobile_likes_received</th>\n",
              "      <th>www_likes</th>\n",
              "      <th>www_likes_received</th>\n",
              "    </tr>\n",
              "  </thead>\n",
              "  <tbody>\n",
              "    <tr>\n",
              "      <th>count</th>\n",
              "      <td>99003.000000</td>\n",
              "      <td>99003.000000</td>\n",
              "      <td>99003.000000</td>\n",
              "      <td>99003.000000</td>\n",
              "      <td>98828</td>\n",
              "      <td>99001.000000</td>\n",
              "      <td>99003.000000</td>\n",
              "      <td>99003.000000</td>\n",
              "      <td>99003.000000</td>\n",
              "      <td>99003.000000</td>\n",
              "      <td>99003.000000</td>\n",
              "      <td>99003.000000</td>\n",
              "      <td>99003.000000</td>\n",
              "      <td>99003.000000</td>\n",
              "    </tr>\n",
              "    <tr>\n",
              "      <th>unique</th>\n",
              "      <td>NaN</td>\n",
              "      <td>NaN</td>\n",
              "      <td>NaN</td>\n",
              "      <td>NaN</td>\n",
              "      <td>2</td>\n",
              "      <td>NaN</td>\n",
              "      <td>NaN</td>\n",
              "      <td>NaN</td>\n",
              "      <td>NaN</td>\n",
              "      <td>NaN</td>\n",
              "      <td>NaN</td>\n",
              "      <td>NaN</td>\n",
              "      <td>NaN</td>\n",
              "      <td>NaN</td>\n",
              "    </tr>\n",
              "    <tr>\n",
              "      <th>top</th>\n",
              "      <td>NaN</td>\n",
              "      <td>NaN</td>\n",
              "      <td>NaN</td>\n",
              "      <td>NaN</td>\n",
              "      <td>male</td>\n",
              "      <td>NaN</td>\n",
              "      <td>NaN</td>\n",
              "      <td>NaN</td>\n",
              "      <td>NaN</td>\n",
              "      <td>NaN</td>\n",
              "      <td>NaN</td>\n",
              "      <td>NaN</td>\n",
              "      <td>NaN</td>\n",
              "      <td>NaN</td>\n",
              "    </tr>\n",
              "    <tr>\n",
              "      <th>freq</th>\n",
              "      <td>NaN</td>\n",
              "      <td>NaN</td>\n",
              "      <td>NaN</td>\n",
              "      <td>NaN</td>\n",
              "      <td>58574</td>\n",
              "      <td>NaN</td>\n",
              "      <td>NaN</td>\n",
              "      <td>NaN</td>\n",
              "      <td>NaN</td>\n",
              "      <td>NaN</td>\n",
              "      <td>NaN</td>\n",
              "      <td>NaN</td>\n",
              "      <td>NaN</td>\n",
              "      <td>NaN</td>\n",
              "    </tr>\n",
              "    <tr>\n",
              "      <th>mean</th>\n",
              "      <td>37.280224</td>\n",
              "      <td>14.530408</td>\n",
              "      <td>1975.719776</td>\n",
              "      <td>6.283365</td>\n",
              "      <td>NaN</td>\n",
              "      <td>537.887375</td>\n",
              "      <td>196.350787</td>\n",
              "      <td>107.452471</td>\n",
              "      <td>156.078785</td>\n",
              "      <td>142.689363</td>\n",
              "      <td>106.116300</td>\n",
              "      <td>84.120491</td>\n",
              "      <td>49.962425</td>\n",
              "      <td>58.568831</td>\n",
              "    </tr>\n",
              "    <tr>\n",
              "      <th>std</th>\n",
              "      <td>22.589748</td>\n",
              "      <td>9.015606</td>\n",
              "      <td>22.589748</td>\n",
              "      <td>3.529672</td>\n",
              "      <td>NaN</td>\n",
              "      <td>457.649874</td>\n",
              "      <td>387.304229</td>\n",
              "      <td>188.786951</td>\n",
              "      <td>572.280681</td>\n",
              "      <td>1387.919613</td>\n",
              "      <td>445.252985</td>\n",
              "      <td>839.889444</td>\n",
              "      <td>285.560152</td>\n",
              "      <td>601.416348</td>\n",
              "    </tr>\n",
              "    <tr>\n",
              "      <th>min</th>\n",
              "      <td>13.000000</td>\n",
              "      <td>1.000000</td>\n",
              "      <td>1900.000000</td>\n",
              "      <td>1.000000</td>\n",
              "      <td>NaN</td>\n",
              "      <td>0.000000</td>\n",
              "      <td>0.000000</td>\n",
              "      <td>0.000000</td>\n",
              "      <td>0.000000</td>\n",
              "      <td>0.000000</td>\n",
              "      <td>0.000000</td>\n",
              "      <td>0.000000</td>\n",
              "      <td>0.000000</td>\n",
              "      <td>0.000000</td>\n",
              "    </tr>\n",
              "    <tr>\n",
              "      <th>25%</th>\n",
              "      <td>20.000000</td>\n",
              "      <td>7.000000</td>\n",
              "      <td>1963.000000</td>\n",
              "      <td>3.000000</td>\n",
              "      <td>NaN</td>\n",
              "      <td>226.000000</td>\n",
              "      <td>31.000000</td>\n",
              "      <td>17.000000</td>\n",
              "      <td>1.000000</td>\n",
              "      <td>1.000000</td>\n",
              "      <td>0.000000</td>\n",
              "      <td>0.000000</td>\n",
              "      <td>0.000000</td>\n",
              "      <td>0.000000</td>\n",
              "    </tr>\n",
              "    <tr>\n",
              "      <th>50%</th>\n",
              "      <td>28.000000</td>\n",
              "      <td>14.000000</td>\n",
              "      <td>1985.000000</td>\n",
              "      <td>6.000000</td>\n",
              "      <td>NaN</td>\n",
              "      <td>412.000000</td>\n",
              "      <td>82.000000</td>\n",
              "      <td>46.000000</td>\n",
              "      <td>11.000000</td>\n",
              "      <td>8.000000</td>\n",
              "      <td>4.000000</td>\n",
              "      <td>4.000000</td>\n",
              "      <td>0.000000</td>\n",
              "      <td>2.000000</td>\n",
              "    </tr>\n",
              "    <tr>\n",
              "      <th>75%</th>\n",
              "      <td>50.000000</td>\n",
              "      <td>22.000000</td>\n",
              "      <td>1993.000000</td>\n",
              "      <td>9.000000</td>\n",
              "      <td>NaN</td>\n",
              "      <td>675.000000</td>\n",
              "      <td>206.000000</td>\n",
              "      <td>117.000000</td>\n",
              "      <td>81.000000</td>\n",
              "      <td>59.000000</td>\n",
              "      <td>46.000000</td>\n",
              "      <td>33.000000</td>\n",
              "      <td>7.000000</td>\n",
              "      <td>20.000000</td>\n",
              "    </tr>\n",
              "    <tr>\n",
              "      <th>max</th>\n",
              "      <td>113.000000</td>\n",
              "      <td>31.000000</td>\n",
              "      <td>2000.000000</td>\n",
              "      <td>12.000000</td>\n",
              "      <td>NaN</td>\n",
              "      <td>3139.000000</td>\n",
              "      <td>4923.000000</td>\n",
              "      <td>4144.000000</td>\n",
              "      <td>25111.000000</td>\n",
              "      <td>261197.000000</td>\n",
              "      <td>25111.000000</td>\n",
              "      <td>138561.000000</td>\n",
              "      <td>14865.000000</td>\n",
              "      <td>129953.000000</td>\n",
              "    </tr>\n",
              "  </tbody>\n",
              "</table>\n",
              "</div>"
            ],
            "text/plain": [
              "                 age       dob_day  ...     www_likes  www_likes_received\n",
              "count   99003.000000  99003.000000  ...  99003.000000        99003.000000\n",
              "unique           NaN           NaN  ...           NaN                 NaN\n",
              "top              NaN           NaN  ...           NaN                 NaN\n",
              "freq             NaN           NaN  ...           NaN                 NaN\n",
              "mean       37.280224     14.530408  ...     49.962425           58.568831\n",
              "std        22.589748      9.015606  ...    285.560152          601.416348\n",
              "min        13.000000      1.000000  ...      0.000000            0.000000\n",
              "25%        20.000000      7.000000  ...      0.000000            0.000000\n",
              "50%        28.000000     14.000000  ...      0.000000            2.000000\n",
              "75%        50.000000     22.000000  ...      7.000000           20.000000\n",
              "max       113.000000     31.000000  ...  14865.000000       129953.000000\n",
              "\n",
              "[11 rows x 14 columns]"
            ]
          },
          "metadata": {
            "tags": []
          },
          "execution_count": 95
        }
      ]
    },
    {
      "cell_type": "markdown",
      "metadata": {
        "id": "cc12q9jZTh4r",
        "colab_type": "text"
      },
      "source": [
        "##Descriptive statistics\n"
      ]
    },
    {
      "cell_type": "code",
      "metadata": {
        "id": "UiQPhQxPToKC",
        "colab_type": "code",
        "outputId": "bc3f5b2c-6ed4-439e-d470-361271d731ec",
        "colab": {
          "base_uri": "https://localhost:8080/",
          "height": 252
        }
      },
      "source": [
        "fb.sum()"
      ],
      "execution_count": 96,
      "outputs": [
        {
          "output_type": "execute_result",
          "data": {
            "text/plain": [
              "age                        3690854.0\n",
              "dob_day                    1438554.0\n",
              "dob_year                 195602185.0\n",
              "dob_month                   622072.0\n",
              "tenure                    53251388.0\n",
              "friend_count              19439317.0\n",
              "friendships_initiated     10638117.0\n",
              "likes                     15452268.0\n",
              "likes_received            14126675.0\n",
              "mobile_likes              10505832.0\n",
              "mobile_likes_received      8328181.0\n",
              "www_likes                  4946430.0\n",
              "www_likes_received         5798490.0\n",
              "dtype: float64"
            ]
          },
          "metadata": {
            "tags": []
          },
          "execution_count": 96
        }
      ]
    },
    {
      "cell_type": "code",
      "metadata": {
        "id": "OLj9vZj4TvuX",
        "colab_type": "code",
        "outputId": "3a4bd724-1618-4a87-cf41-9e684574df78",
        "colab": {
          "base_uri": "https://localhost:8080/",
          "height": 269
        }
      },
      "source": [
        "fb.count()"
      ],
      "execution_count": 97,
      "outputs": [
        {
          "output_type": "execute_result",
          "data": {
            "text/plain": [
              "age                      99003\n",
              "dob_day                  99003\n",
              "dob_year                 99003\n",
              "dob_month                99003\n",
              "gender                   98828\n",
              "tenure                   99001\n",
              "friend_count             99003\n",
              "friendships_initiated    99003\n",
              "likes                    99003\n",
              "likes_received           99003\n",
              "mobile_likes             99003\n",
              "mobile_likes_received    99003\n",
              "www_likes                99003\n",
              "www_likes_received       99003\n",
              "dtype: int64"
            ]
          },
          "metadata": {
            "tags": []
          },
          "execution_count": 97
        }
      ]
    },
    {
      "cell_type": "code",
      "metadata": {
        "id": "nHtOlgnkT6af",
        "colab_type": "code",
        "outputId": "15aefe84-ff1a-4b87-f44c-a730c90df256",
        "colab": {
          "base_uri": "https://localhost:8080/",
          "height": 252
        }
      },
      "source": [
        "fb.mean()"
      ],
      "execution_count": 98,
      "outputs": [
        {
          "output_type": "execute_result",
          "data": {
            "text/plain": [
              "age                        37.280224\n",
              "dob_day                    14.530408\n",
              "dob_year                 1975.719776\n",
              "dob_month                   6.283365\n",
              "tenure                    537.887375\n",
              "friend_count              196.350787\n",
              "friendships_initiated     107.452471\n",
              "likes                     156.078785\n",
              "likes_received            142.689363\n",
              "mobile_likes              106.116300\n",
              "mobile_likes_received      84.120491\n",
              "www_likes                  49.962425\n",
              "www_likes_received         58.568831\n",
              "dtype: float64"
            ]
          },
          "metadata": {
            "tags": []
          },
          "execution_count": 98
        }
      ]
    },
    {
      "cell_type": "code",
      "metadata": {
        "id": "9CMuL06lT-Jk",
        "colab_type": "code",
        "outputId": "5c8e65d7-b41c-4e89-8952-8d58943e1c04",
        "colab": {
          "base_uri": "https://localhost:8080/",
          "height": 252
        }
      },
      "source": [
        "fb.median()"
      ],
      "execution_count": 99,
      "outputs": [
        {
          "output_type": "execute_result",
          "data": {
            "text/plain": [
              "age                        28.0\n",
              "dob_day                    14.0\n",
              "dob_year                 1985.0\n",
              "dob_month                   6.0\n",
              "tenure                    412.0\n",
              "friend_count               82.0\n",
              "friendships_initiated      46.0\n",
              "likes                      11.0\n",
              "likes_received              8.0\n",
              "mobile_likes                4.0\n",
              "mobile_likes_received       4.0\n",
              "www_likes                   0.0\n",
              "www_likes_received          2.0\n",
              "dtype: float64"
            ]
          },
          "metadata": {
            "tags": []
          },
          "execution_count": 99
        }
      ]
    },
    {
      "cell_type": "code",
      "metadata": {
        "id": "sdNbvKSKUBIc",
        "colab_type": "code",
        "outputId": "cb7fce0b-92bc-4598-d74e-f9ee2b9d584b",
        "colab": {
          "base_uri": "https://localhost:8080/",
          "height": 255
        }
      },
      "source": [
        "fb.max()"
      ],
      "execution_count": 0,
      "outputs": [
        {
          "output_type": "execute_result",
          "data": {
            "text/plain": [
              "age                         113\n",
              "dob_day                      31\n",
              "dob_year                   2000\n",
              "dob_month                    12\n",
              "gender                     male\n",
              "friend_count               4923\n",
              "friendships_initiated      4144\n",
              "likes                     25111\n",
              "likes_received           261197\n",
              "mobile_likes              25111\n",
              "mobile_likes_received    138561\n",
              "www_likes                 14865\n",
              "www_likes_received       129953\n",
              "dtype: object"
            ]
          },
          "metadata": {
            "tags": []
          },
          "execution_count": 57
        }
      ]
    },
    {
      "cell_type": "code",
      "metadata": {
        "id": "7boWdQVvUE1H",
        "colab_type": "code",
        "outputId": "572f76a7-a691-4b13-b815-c5418806d821",
        "colab": {
          "base_uri": "https://localhost:8080/",
          "height": 252
        }
      },
      "source": [
        "fb.min()"
      ],
      "execution_count": 100,
      "outputs": [
        {
          "output_type": "execute_result",
          "data": {
            "text/plain": [
              "age                        13.0\n",
              "dob_day                     1.0\n",
              "dob_year                 1900.0\n",
              "dob_month                   1.0\n",
              "tenure                      0.0\n",
              "friend_count                0.0\n",
              "friendships_initiated       0.0\n",
              "likes                       0.0\n",
              "likes_received              0.0\n",
              "mobile_likes                0.0\n",
              "mobile_likes_received       0.0\n",
              "www_likes                   0.0\n",
              "www_likes_received          0.0\n",
              "dtype: float64"
            ]
          },
          "metadata": {
            "tags": []
          },
          "execution_count": 100
        }
      ]
    },
    {
      "cell_type": "code",
      "metadata": {
        "id": "pMuVIOpFUHgz",
        "colab_type": "code",
        "outputId": "0b3a3449-7776-4d27-c3de-50e75f7170b8",
        "colab": {
          "base_uri": "https://localhost:8080/",
          "height": 252
        }
      },
      "source": [
        "fb.std()"
      ],
      "execution_count": 101,
      "outputs": [
        {
          "output_type": "execute_result",
          "data": {
            "text/plain": [
              "age                        22.589748\n",
              "dob_day                     9.015606\n",
              "dob_year                   22.589748\n",
              "dob_month                   3.529672\n",
              "tenure                    457.649874\n",
              "friend_count              387.304229\n",
              "friendships_initiated     188.786951\n",
              "likes                     572.280681\n",
              "likes_received           1387.919613\n",
              "mobile_likes              445.252985\n",
              "mobile_likes_received     839.889444\n",
              "www_likes                 285.560152\n",
              "www_likes_received        601.416348\n",
              "dtype: float64"
            ]
          },
          "metadata": {
            "tags": []
          },
          "execution_count": 101
        }
      ]
    },
    {
      "cell_type": "code",
      "metadata": {
        "id": "XKIER9_ZUN9f",
        "colab_type": "code",
        "outputId": "6c87a2e1-6e7f-4565-8cae-3c0cece7dfa7",
        "colab": {
          "base_uri": "https://localhost:8080/",
          "height": 235
        }
      },
      "source": [
        "fb['friend_count'].cumsum()"
      ],
      "execution_count": 102,
      "outputs": [
        {
          "output_type": "execute_result",
          "data": {
            "text/plain": [
              "userid\n",
              "2094382           0\n",
              "1192601           0\n",
              "2083884           0\n",
              "1203168           0\n",
              "1733186           0\n",
              "             ...   \n",
              "1268299    19430738\n",
              "1256153    19432706\n",
              "1195943    19434708\n",
              "1468023    19437268\n",
              "1397896    19439317\n",
              "Name: friend_count, Length: 99003, dtype: int64"
            ]
          },
          "metadata": {
            "tags": []
          },
          "execution_count": 102
        }
      ]
    },
    {
      "cell_type": "code",
      "metadata": {
        "id": "fJd1dXByUbWy",
        "colab_type": "code",
        "outputId": "36f2d46f-4654-4229-eb40-d345b3a3c079",
        "colab": {
          "base_uri": "https://localhost:8080/",
          "height": 235
        }
      },
      "source": [
        "fb['likes'].cumprod()"
      ],
      "execution_count": 103,
      "outputs": [
        {
          "output_type": "execute_result",
          "data": {
            "text/plain": [
              "userid\n",
              "2094382    0\n",
              "1192601    0\n",
              "2083884    0\n",
              "1203168    0\n",
              "1733186    0\n",
              "          ..\n",
              "1268299    0\n",
              "1256153    0\n",
              "1195943    0\n",
              "1468023    0\n",
              "1397896    0\n",
              "Name: likes, Length: 99003, dtype: int64"
            ]
          },
          "metadata": {
            "tags": []
          },
          "execution_count": 103
        }
      ]
    },
    {
      "cell_type": "markdown",
      "metadata": {
        "id": "elmv96pSF3lz",
        "colab_type": "text"
      },
      "source": [
        "## Calculate the sum column wise\n",
        "we can add the values in columns"
      ]
    },
    {
      "cell_type": "code",
      "metadata": {
        "id": "IJVy9ZGoIEeJ",
        "colab_type": "code",
        "outputId": "5839b749-ac90-45e9-b30c-e7c4890047a7",
        "colab": {
          "base_uri": "https://localhost:8080/",
          "height": 252
        }
      },
      "source": [
        "fb.sum()"
      ],
      "execution_count": 104,
      "outputs": [
        {
          "output_type": "execute_result",
          "data": {
            "text/plain": [
              "age                        3690854.0\n",
              "dob_day                    1438554.0\n",
              "dob_year                 195602185.0\n",
              "dob_month                   622072.0\n",
              "tenure                    53251388.0\n",
              "friend_count              19439317.0\n",
              "friendships_initiated     10638117.0\n",
              "likes                     15452268.0\n",
              "likes_received            14126675.0\n",
              "mobile_likes              10505832.0\n",
              "mobile_likes_received      8328181.0\n",
              "www_likes                  4946430.0\n",
              "www_likes_received         5798490.0\n",
              "dtype: float64"
            ]
          },
          "metadata": {
            "tags": []
          },
          "execution_count": 104
        }
      ]
    },
    {
      "cell_type": "code",
      "metadata": {
        "id": "8-KNEfiEIPNU",
        "colab_type": "code",
        "outputId": "08417556-a521-4dd2-ac10-efd3a7bad449",
        "colab": {
          "base_uri": "https://localhost:8080/",
          "height": 34
        }
      },
      "source": [
        "#we can also add specific columns only\n",
        "fb['likes'].sum()"
      ],
      "execution_count": 105,
      "outputs": [
        {
          "output_type": "execute_result",
          "data": {
            "text/plain": [
              "15452268"
            ]
          },
          "metadata": {
            "tags": []
          },
          "execution_count": 105
        }
      ]
    },
    {
      "cell_type": "markdown",
      "metadata": {
        "id": "yBWkBa9tKLKn",
        "colab_type": "text"
      },
      "source": [
        "# Renaming columns"
      ]
    },
    {
      "cell_type": "code",
      "metadata": {
        "id": "2k9TOgo0KZJV",
        "colab_type": "code",
        "outputId": "be2aae82-96ca-4680-cca5-267bb2b350d8",
        "colab": {
          "base_uri": "https://localhost:8080/",
          "height": 451
        }
      },
      "source": [
        "fb.rename(columns={\"dob_day\":\"dob\"})"
      ],
      "execution_count": 106,
      "outputs": [
        {
          "output_type": "execute_result",
          "data": {
            "text/html": [
              "<div>\n",
              "<style scoped>\n",
              "    .dataframe tbody tr th:only-of-type {\n",
              "        vertical-align: middle;\n",
              "    }\n",
              "\n",
              "    .dataframe tbody tr th {\n",
              "        vertical-align: top;\n",
              "    }\n",
              "\n",
              "    .dataframe thead th {\n",
              "        text-align: right;\n",
              "    }\n",
              "</style>\n",
              "<table border=\"1\" class=\"dataframe\">\n",
              "  <thead>\n",
              "    <tr style=\"text-align: right;\">\n",
              "      <th></th>\n",
              "      <th>age</th>\n",
              "      <th>dob</th>\n",
              "      <th>dob_year</th>\n",
              "      <th>dob_month</th>\n",
              "      <th>gender</th>\n",
              "      <th>tenure</th>\n",
              "      <th>friend_count</th>\n",
              "      <th>friendships_initiated</th>\n",
              "      <th>likes</th>\n",
              "      <th>likes_received</th>\n",
              "      <th>mobile_likes</th>\n",
              "      <th>mobile_likes_received</th>\n",
              "      <th>www_likes</th>\n",
              "      <th>www_likes_received</th>\n",
              "    </tr>\n",
              "    <tr>\n",
              "      <th>userid</th>\n",
              "      <th></th>\n",
              "      <th></th>\n",
              "      <th></th>\n",
              "      <th></th>\n",
              "      <th></th>\n",
              "      <th></th>\n",
              "      <th></th>\n",
              "      <th></th>\n",
              "      <th></th>\n",
              "      <th></th>\n",
              "      <th></th>\n",
              "      <th></th>\n",
              "      <th></th>\n",
              "      <th></th>\n",
              "    </tr>\n",
              "  </thead>\n",
              "  <tbody>\n",
              "    <tr>\n",
              "      <th>2094382</th>\n",
              "      <td>14</td>\n",
              "      <td>19</td>\n",
              "      <td>1999</td>\n",
              "      <td>11</td>\n",
              "      <td>male</td>\n",
              "      <td>266.0</td>\n",
              "      <td>0</td>\n",
              "      <td>0</td>\n",
              "      <td>0</td>\n",
              "      <td>0</td>\n",
              "      <td>0</td>\n",
              "      <td>0</td>\n",
              "      <td>0</td>\n",
              "      <td>0</td>\n",
              "    </tr>\n",
              "    <tr>\n",
              "      <th>1192601</th>\n",
              "      <td>14</td>\n",
              "      <td>2</td>\n",
              "      <td>1999</td>\n",
              "      <td>11</td>\n",
              "      <td>female</td>\n",
              "      <td>6.0</td>\n",
              "      <td>0</td>\n",
              "      <td>0</td>\n",
              "      <td>0</td>\n",
              "      <td>0</td>\n",
              "      <td>0</td>\n",
              "      <td>0</td>\n",
              "      <td>0</td>\n",
              "      <td>0</td>\n",
              "    </tr>\n",
              "    <tr>\n",
              "      <th>2083884</th>\n",
              "      <td>14</td>\n",
              "      <td>16</td>\n",
              "      <td>1999</td>\n",
              "      <td>11</td>\n",
              "      <td>male</td>\n",
              "      <td>13.0</td>\n",
              "      <td>0</td>\n",
              "      <td>0</td>\n",
              "      <td>0</td>\n",
              "      <td>0</td>\n",
              "      <td>0</td>\n",
              "      <td>0</td>\n",
              "      <td>0</td>\n",
              "      <td>0</td>\n",
              "    </tr>\n",
              "    <tr>\n",
              "      <th>1203168</th>\n",
              "      <td>14</td>\n",
              "      <td>25</td>\n",
              "      <td>1999</td>\n",
              "      <td>12</td>\n",
              "      <td>female</td>\n",
              "      <td>93.0</td>\n",
              "      <td>0</td>\n",
              "      <td>0</td>\n",
              "      <td>0</td>\n",
              "      <td>0</td>\n",
              "      <td>0</td>\n",
              "      <td>0</td>\n",
              "      <td>0</td>\n",
              "      <td>0</td>\n",
              "    </tr>\n",
              "    <tr>\n",
              "      <th>1733186</th>\n",
              "      <td>14</td>\n",
              "      <td>4</td>\n",
              "      <td>1999</td>\n",
              "      <td>12</td>\n",
              "      <td>male</td>\n",
              "      <td>82.0</td>\n",
              "      <td>0</td>\n",
              "      <td>0</td>\n",
              "      <td>0</td>\n",
              "      <td>0</td>\n",
              "      <td>0</td>\n",
              "      <td>0</td>\n",
              "      <td>0</td>\n",
              "      <td>0</td>\n",
              "    </tr>\n",
              "    <tr>\n",
              "      <th>...</th>\n",
              "      <td>...</td>\n",
              "      <td>...</td>\n",
              "      <td>...</td>\n",
              "      <td>...</td>\n",
              "      <td>...</td>\n",
              "      <td>...</td>\n",
              "      <td>...</td>\n",
              "      <td>...</td>\n",
              "      <td>...</td>\n",
              "      <td>...</td>\n",
              "      <td>...</td>\n",
              "      <td>...</td>\n",
              "      <td>...</td>\n",
              "      <td>...</td>\n",
              "    </tr>\n",
              "    <tr>\n",
              "      <th>1268299</th>\n",
              "      <td>68</td>\n",
              "      <td>4</td>\n",
              "      <td>1945</td>\n",
              "      <td>4</td>\n",
              "      <td>female</td>\n",
              "      <td>541.0</td>\n",
              "      <td>2118</td>\n",
              "      <td>341</td>\n",
              "      <td>3996</td>\n",
              "      <td>18089</td>\n",
              "      <td>3505</td>\n",
              "      <td>11887</td>\n",
              "      <td>491</td>\n",
              "      <td>6202</td>\n",
              "    </tr>\n",
              "    <tr>\n",
              "      <th>1256153</th>\n",
              "      <td>18</td>\n",
              "      <td>12</td>\n",
              "      <td>1995</td>\n",
              "      <td>3</td>\n",
              "      <td>female</td>\n",
              "      <td>21.0</td>\n",
              "      <td>1968</td>\n",
              "      <td>1720</td>\n",
              "      <td>4401</td>\n",
              "      <td>13412</td>\n",
              "      <td>4399</td>\n",
              "      <td>10592</td>\n",
              "      <td>2</td>\n",
              "      <td>2820</td>\n",
              "    </tr>\n",
              "    <tr>\n",
              "      <th>1195943</th>\n",
              "      <td>15</td>\n",
              "      <td>10</td>\n",
              "      <td>1998</td>\n",
              "      <td>5</td>\n",
              "      <td>female</td>\n",
              "      <td>111.0</td>\n",
              "      <td>2002</td>\n",
              "      <td>1524</td>\n",
              "      <td>11959</td>\n",
              "      <td>12554</td>\n",
              "      <td>11959</td>\n",
              "      <td>11462</td>\n",
              "      <td>0</td>\n",
              "      <td>1092</td>\n",
              "    </tr>\n",
              "    <tr>\n",
              "      <th>1468023</th>\n",
              "      <td>23</td>\n",
              "      <td>11</td>\n",
              "      <td>1990</td>\n",
              "      <td>4</td>\n",
              "      <td>female</td>\n",
              "      <td>416.0</td>\n",
              "      <td>2560</td>\n",
              "      <td>185</td>\n",
              "      <td>4506</td>\n",
              "      <td>6516</td>\n",
              "      <td>4506</td>\n",
              "      <td>5760</td>\n",
              "      <td>0</td>\n",
              "      <td>756</td>\n",
              "    </tr>\n",
              "    <tr>\n",
              "      <th>1397896</th>\n",
              "      <td>39</td>\n",
              "      <td>15</td>\n",
              "      <td>1974</td>\n",
              "      <td>5</td>\n",
              "      <td>female</td>\n",
              "      <td>397.0</td>\n",
              "      <td>2049</td>\n",
              "      <td>768</td>\n",
              "      <td>9410</td>\n",
              "      <td>12443</td>\n",
              "      <td>9410</td>\n",
              "      <td>9530</td>\n",
              "      <td>0</td>\n",
              "      <td>2913</td>\n",
              "    </tr>\n",
              "  </tbody>\n",
              "</table>\n",
              "<p>99003 rows × 14 columns</p>\n",
              "</div>"
            ],
            "text/plain": [
              "         age  dob  ...  www_likes  www_likes_received\n",
              "userid             ...                               \n",
              "2094382   14   19  ...          0                   0\n",
              "1192601   14    2  ...          0                   0\n",
              "2083884   14   16  ...          0                   0\n",
              "1203168   14   25  ...          0                   0\n",
              "1733186   14    4  ...          0                   0\n",
              "...      ...  ...  ...        ...                 ...\n",
              "1268299   68    4  ...        491                6202\n",
              "1256153   18   12  ...          2                2820\n",
              "1195943   15   10  ...          0                1092\n",
              "1468023   23   11  ...          0                 756\n",
              "1397896   39   15  ...          0                2913\n",
              "\n",
              "[99003 rows x 14 columns]"
            ]
          },
          "metadata": {
            "tags": []
          },
          "execution_count": 106
        }
      ]
    },
    {
      "cell_type": "markdown",
      "metadata": {
        "id": "8gQCO4MqVybZ",
        "colab_type": "text"
      },
      "source": [
        "##Sort the data"
      ]
    },
    {
      "cell_type": "code",
      "metadata": {
        "id": "b0Fwn2h9V27K",
        "colab_type": "code",
        "outputId": "9a3ae25e-287f-43c9-839f-1bdc289f3878",
        "colab": {
          "base_uri": "https://localhost:8080/",
          "height": 451
        }
      },
      "source": [
        "fb.sort_index()"
      ],
      "execution_count": 107,
      "outputs": [
        {
          "output_type": "execute_result",
          "data": {
            "text/html": [
              "<div>\n",
              "<style scoped>\n",
              "    .dataframe tbody tr th:only-of-type {\n",
              "        vertical-align: middle;\n",
              "    }\n",
              "\n",
              "    .dataframe tbody tr th {\n",
              "        vertical-align: top;\n",
              "    }\n",
              "\n",
              "    .dataframe thead th {\n",
              "        text-align: right;\n",
              "    }\n",
              "</style>\n",
              "<table border=\"1\" class=\"dataframe\">\n",
              "  <thead>\n",
              "    <tr style=\"text-align: right;\">\n",
              "      <th></th>\n",
              "      <th>age</th>\n",
              "      <th>dob_day</th>\n",
              "      <th>dob_year</th>\n",
              "      <th>dob_month</th>\n",
              "      <th>gender</th>\n",
              "      <th>tenure</th>\n",
              "      <th>friend_count</th>\n",
              "      <th>friendships_initiated</th>\n",
              "      <th>likes</th>\n",
              "      <th>likes_received</th>\n",
              "      <th>mobile_likes</th>\n",
              "      <th>mobile_likes_received</th>\n",
              "      <th>www_likes</th>\n",
              "      <th>www_likes_received</th>\n",
              "    </tr>\n",
              "    <tr>\n",
              "      <th>userid</th>\n",
              "      <th></th>\n",
              "      <th></th>\n",
              "      <th></th>\n",
              "      <th></th>\n",
              "      <th></th>\n",
              "      <th></th>\n",
              "      <th></th>\n",
              "      <th></th>\n",
              "      <th></th>\n",
              "      <th></th>\n",
              "      <th></th>\n",
              "      <th></th>\n",
              "      <th></th>\n",
              "      <th></th>\n",
              "    </tr>\n",
              "  </thead>\n",
              "  <tbody>\n",
              "    <tr>\n",
              "      <th>1000008</th>\n",
              "      <td>14</td>\n",
              "      <td>9</td>\n",
              "      <td>1999</td>\n",
              "      <td>9</td>\n",
              "      <td>female</td>\n",
              "      <td>343.0</td>\n",
              "      <td>1156</td>\n",
              "      <td>233</td>\n",
              "      <td>431</td>\n",
              "      <td>198</td>\n",
              "      <td>400</td>\n",
              "      <td>167</td>\n",
              "      <td>31</td>\n",
              "      <td>31</td>\n",
              "    </tr>\n",
              "    <tr>\n",
              "      <th>1000013</th>\n",
              "      <td>61</td>\n",
              "      <td>26</td>\n",
              "      <td>1952</td>\n",
              "      <td>10</td>\n",
              "      <td>female</td>\n",
              "      <td>1856.0</td>\n",
              "      <td>47</td>\n",
              "      <td>28</td>\n",
              "      <td>128</td>\n",
              "      <td>55</td>\n",
              "      <td>128</td>\n",
              "      <td>31</td>\n",
              "      <td>0</td>\n",
              "      <td>24</td>\n",
              "    </tr>\n",
              "    <tr>\n",
              "      <th>1000015</th>\n",
              "      <td>108</td>\n",
              "      <td>10</td>\n",
              "      <td>1905</td>\n",
              "      <td>2</td>\n",
              "      <td>female</td>\n",
              "      <td>1067.0</td>\n",
              "      <td>344</td>\n",
              "      <td>79</td>\n",
              "      <td>0</td>\n",
              "      <td>1</td>\n",
              "      <td>0</td>\n",
              "      <td>0</td>\n",
              "      <td>0</td>\n",
              "      <td>1</td>\n",
              "    </tr>\n",
              "    <tr>\n",
              "      <th>1000038</th>\n",
              "      <td>16</td>\n",
              "      <td>25</td>\n",
              "      <td>1997</td>\n",
              "      <td>11</td>\n",
              "      <td>male</td>\n",
              "      <td>170.0</td>\n",
              "      <td>71</td>\n",
              "      <td>29</td>\n",
              "      <td>0</td>\n",
              "      <td>0</td>\n",
              "      <td>0</td>\n",
              "      <td>0</td>\n",
              "      <td>0</td>\n",
              "      <td>0</td>\n",
              "    </tr>\n",
              "    <tr>\n",
              "      <th>1000059</th>\n",
              "      <td>15</td>\n",
              "      <td>10</td>\n",
              "      <td>1998</td>\n",
              "      <td>5</td>\n",
              "      <td>male</td>\n",
              "      <td>625.0</td>\n",
              "      <td>58</td>\n",
              "      <td>29</td>\n",
              "      <td>90</td>\n",
              "      <td>8</td>\n",
              "      <td>90</td>\n",
              "      <td>5</td>\n",
              "      <td>0</td>\n",
              "      <td>3</td>\n",
              "    </tr>\n",
              "    <tr>\n",
              "      <th>...</th>\n",
              "      <td>...</td>\n",
              "      <td>...</td>\n",
              "      <td>...</td>\n",
              "      <td>...</td>\n",
              "      <td>...</td>\n",
              "      <td>...</td>\n",
              "      <td>...</td>\n",
              "      <td>...</td>\n",
              "      <td>...</td>\n",
              "      <td>...</td>\n",
              "      <td>...</td>\n",
              "      <td>...</td>\n",
              "      <td>...</td>\n",
              "      <td>...</td>\n",
              "    </tr>\n",
              "    <tr>\n",
              "      <th>2193485</th>\n",
              "      <td>31</td>\n",
              "      <td>24</td>\n",
              "      <td>1982</td>\n",
              "      <td>12</td>\n",
              "      <td>male</td>\n",
              "      <td>598.0</td>\n",
              "      <td>80</td>\n",
              "      <td>30</td>\n",
              "      <td>111</td>\n",
              "      <td>32</td>\n",
              "      <td>111</td>\n",
              "      <td>17</td>\n",
              "      <td>0</td>\n",
              "      <td>15</td>\n",
              "    </tr>\n",
              "    <tr>\n",
              "      <th>2193499</th>\n",
              "      <td>29</td>\n",
              "      <td>4</td>\n",
              "      <td>1984</td>\n",
              "      <td>12</td>\n",
              "      <td>male</td>\n",
              "      <td>263.0</td>\n",
              "      <td>21</td>\n",
              "      <td>14</td>\n",
              "      <td>5</td>\n",
              "      <td>0</td>\n",
              "      <td>5</td>\n",
              "      <td>0</td>\n",
              "      <td>0</td>\n",
              "      <td>0</td>\n",
              "    </tr>\n",
              "    <tr>\n",
              "      <th>2193522</th>\n",
              "      <td>22</td>\n",
              "      <td>29</td>\n",
              "      <td>1991</td>\n",
              "      <td>9</td>\n",
              "      <td>male</td>\n",
              "      <td>407.0</td>\n",
              "      <td>313</td>\n",
              "      <td>278</td>\n",
              "      <td>42</td>\n",
              "      <td>27</td>\n",
              "      <td>42</td>\n",
              "      <td>16</td>\n",
              "      <td>0</td>\n",
              "      <td>11</td>\n",
              "    </tr>\n",
              "    <tr>\n",
              "      <th>2193538</th>\n",
              "      <td>18</td>\n",
              "      <td>7</td>\n",
              "      <td>1995</td>\n",
              "      <td>11</td>\n",
              "      <td>female</td>\n",
              "      <td>8.0</td>\n",
              "      <td>154</td>\n",
              "      <td>119</td>\n",
              "      <td>248</td>\n",
              "      <td>330</td>\n",
              "      <td>113</td>\n",
              "      <td>168</td>\n",
              "      <td>135</td>\n",
              "      <td>162</td>\n",
              "    </tr>\n",
              "    <tr>\n",
              "      <th>2193542</th>\n",
              "      <td>26</td>\n",
              "      <td>5</td>\n",
              "      <td>1987</td>\n",
              "      <td>2</td>\n",
              "      <td>male</td>\n",
              "      <td>644.0</td>\n",
              "      <td>104</td>\n",
              "      <td>86</td>\n",
              "      <td>0</td>\n",
              "      <td>0</td>\n",
              "      <td>0</td>\n",
              "      <td>0</td>\n",
              "      <td>0</td>\n",
              "      <td>0</td>\n",
              "    </tr>\n",
              "  </tbody>\n",
              "</table>\n",
              "<p>99003 rows × 14 columns</p>\n",
              "</div>"
            ],
            "text/plain": [
              "         age  dob_day  ...  www_likes  www_likes_received\n",
              "userid                 ...                               \n",
              "1000008   14        9  ...         31                  31\n",
              "1000013   61       26  ...          0                  24\n",
              "1000015  108       10  ...          0                   1\n",
              "1000038   16       25  ...          0                   0\n",
              "1000059   15       10  ...          0                   3\n",
              "...      ...      ...  ...        ...                 ...\n",
              "2193485   31       24  ...          0                  15\n",
              "2193499   29        4  ...          0                   0\n",
              "2193522   22       29  ...          0                  11\n",
              "2193538   18        7  ...        135                 162\n",
              "2193542   26        5  ...          0                   0\n",
              "\n",
              "[99003 rows x 14 columns]"
            ]
          },
          "metadata": {
            "tags": []
          },
          "execution_count": 107
        }
      ]
    },
    {
      "cell_type": "code",
      "metadata": {
        "id": "OlzHx_V-Qc1V",
        "colab_type": "code",
        "colab": {}
      },
      "source": [
        ""
      ],
      "execution_count": 0,
      "outputs": []
    },
    {
      "cell_type": "markdown",
      "metadata": {
        "id": "hlOPNyb5R9Bp",
        "colab_type": "text"
      },
      "source": [
        "# .loc()\n",
        "we can access data using loc function    ##through labels"
      ]
    },
    {
      "cell_type": "code",
      "metadata": {
        "id": "GL_fbAAER_Ms",
        "colab_type": "code",
        "outputId": "62c4b484-93f5-4cf8-b7d1-57f86315edec",
        "colab": {
          "base_uri": "https://localhost:8080/",
          "height": 269
        }
      },
      "source": [
        "fb.loc[2083884]"
      ],
      "execution_count": 108,
      "outputs": [
        {
          "output_type": "execute_result",
          "data": {
            "text/plain": [
              "age                        14\n",
              "dob_day                    16\n",
              "dob_year                 1999\n",
              "dob_month                  11\n",
              "gender                   male\n",
              "tenure                     13\n",
              "friend_count                0\n",
              "friendships_initiated       0\n",
              "likes                       0\n",
              "likes_received              0\n",
              "mobile_likes                0\n",
              "mobile_likes_received       0\n",
              "www_likes                   0\n",
              "www_likes_received          0\n",
              "Name: 2083884, dtype: object"
            ]
          },
          "metadata": {
            "tags": []
          },
          "execution_count": 108
        }
      ]
    },
    {
      "cell_type": "code",
      "metadata": {
        "id": "FV27N_AyS_13",
        "colab_type": "code",
        "outputId": "729d92db-377d-49af-984c-b86ff4f5e471",
        "colab": {
          "base_uri": "https://localhost:8080/",
          "height": 235
        }
      },
      "source": [
        "##we can also access data of a particular column\n",
        "fb.loc[:,\"gender\"]"
      ],
      "execution_count": 109,
      "outputs": [
        {
          "output_type": "execute_result",
          "data": {
            "text/plain": [
              "userid\n",
              "2094382      male\n",
              "1192601    female\n",
              "2083884      male\n",
              "1203168    female\n",
              "1733186      male\n",
              "            ...  \n",
              "1268299    female\n",
              "1256153    female\n",
              "1195943    female\n",
              "1468023    female\n",
              "1397896    female\n",
              "Name: gender, Length: 99003, dtype: object"
            ]
          },
          "metadata": {
            "tags": []
          },
          "execution_count": 109
        }
      ]
    },
    {
      "cell_type": "markdown",
      "metadata": {
        "id": "GUigbD2Wh_0q",
        "colab_type": "text"
      },
      "source": [
        "# .iloc()\n",
        " To get purely integer based indexing we use iloc"
      ]
    },
    {
      "cell_type": "code",
      "metadata": {
        "id": "88mWQpZKTsvn",
        "colab_type": "code",
        "outputId": "5feb800c-9cac-4ebb-eeaa-591a9aa1a056",
        "colab": {
          "base_uri": "https://localhost:8080/",
          "height": 431
        }
      },
      "source": [
        "fb.iloc[:,0:5]"
      ],
      "execution_count": 110,
      "outputs": [
        {
          "output_type": "execute_result",
          "data": {
            "text/html": [
              "<div>\n",
              "<style scoped>\n",
              "    .dataframe tbody tr th:only-of-type {\n",
              "        vertical-align: middle;\n",
              "    }\n",
              "\n",
              "    .dataframe tbody tr th {\n",
              "        vertical-align: top;\n",
              "    }\n",
              "\n",
              "    .dataframe thead th {\n",
              "        text-align: right;\n",
              "    }\n",
              "</style>\n",
              "<table border=\"1\" class=\"dataframe\">\n",
              "  <thead>\n",
              "    <tr style=\"text-align: right;\">\n",
              "      <th></th>\n",
              "      <th>age</th>\n",
              "      <th>dob_day</th>\n",
              "      <th>dob_year</th>\n",
              "      <th>dob_month</th>\n",
              "      <th>gender</th>\n",
              "    </tr>\n",
              "    <tr>\n",
              "      <th>userid</th>\n",
              "      <th></th>\n",
              "      <th></th>\n",
              "      <th></th>\n",
              "      <th></th>\n",
              "      <th></th>\n",
              "    </tr>\n",
              "  </thead>\n",
              "  <tbody>\n",
              "    <tr>\n",
              "      <th>2094382</th>\n",
              "      <td>14</td>\n",
              "      <td>19</td>\n",
              "      <td>1999</td>\n",
              "      <td>11</td>\n",
              "      <td>male</td>\n",
              "    </tr>\n",
              "    <tr>\n",
              "      <th>1192601</th>\n",
              "      <td>14</td>\n",
              "      <td>2</td>\n",
              "      <td>1999</td>\n",
              "      <td>11</td>\n",
              "      <td>female</td>\n",
              "    </tr>\n",
              "    <tr>\n",
              "      <th>2083884</th>\n",
              "      <td>14</td>\n",
              "      <td>16</td>\n",
              "      <td>1999</td>\n",
              "      <td>11</td>\n",
              "      <td>male</td>\n",
              "    </tr>\n",
              "    <tr>\n",
              "      <th>1203168</th>\n",
              "      <td>14</td>\n",
              "      <td>25</td>\n",
              "      <td>1999</td>\n",
              "      <td>12</td>\n",
              "      <td>female</td>\n",
              "    </tr>\n",
              "    <tr>\n",
              "      <th>1733186</th>\n",
              "      <td>14</td>\n",
              "      <td>4</td>\n",
              "      <td>1999</td>\n",
              "      <td>12</td>\n",
              "      <td>male</td>\n",
              "    </tr>\n",
              "    <tr>\n",
              "      <th>...</th>\n",
              "      <td>...</td>\n",
              "      <td>...</td>\n",
              "      <td>...</td>\n",
              "      <td>...</td>\n",
              "      <td>...</td>\n",
              "    </tr>\n",
              "    <tr>\n",
              "      <th>1268299</th>\n",
              "      <td>68</td>\n",
              "      <td>4</td>\n",
              "      <td>1945</td>\n",
              "      <td>4</td>\n",
              "      <td>female</td>\n",
              "    </tr>\n",
              "    <tr>\n",
              "      <th>1256153</th>\n",
              "      <td>18</td>\n",
              "      <td>12</td>\n",
              "      <td>1995</td>\n",
              "      <td>3</td>\n",
              "      <td>female</td>\n",
              "    </tr>\n",
              "    <tr>\n",
              "      <th>1195943</th>\n",
              "      <td>15</td>\n",
              "      <td>10</td>\n",
              "      <td>1998</td>\n",
              "      <td>5</td>\n",
              "      <td>female</td>\n",
              "    </tr>\n",
              "    <tr>\n",
              "      <th>1468023</th>\n",
              "      <td>23</td>\n",
              "      <td>11</td>\n",
              "      <td>1990</td>\n",
              "      <td>4</td>\n",
              "      <td>female</td>\n",
              "    </tr>\n",
              "    <tr>\n",
              "      <th>1397896</th>\n",
              "      <td>39</td>\n",
              "      <td>15</td>\n",
              "      <td>1974</td>\n",
              "      <td>5</td>\n",
              "      <td>female</td>\n",
              "    </tr>\n",
              "  </tbody>\n",
              "</table>\n",
              "<p>99003 rows × 5 columns</p>\n",
              "</div>"
            ],
            "text/plain": [
              "         age  dob_day  dob_year  dob_month  gender\n",
              "userid                                            \n",
              "2094382   14       19      1999         11    male\n",
              "1192601   14        2      1999         11  female\n",
              "2083884   14       16      1999         11    male\n",
              "1203168   14       25      1999         12  female\n",
              "1733186   14        4      1999         12    male\n",
              "...      ...      ...       ...        ...     ...\n",
              "1268299   68        4      1945          4  female\n",
              "1256153   18       12      1995          3  female\n",
              "1195943   15       10      1998          5  female\n",
              "1468023   23       11      1990          4  female\n",
              "1397896   39       15      1974          5  female\n",
              "\n",
              "[99003 rows x 5 columns]"
            ]
          },
          "metadata": {
            "tags": []
          },
          "execution_count": 110
        }
      ]
    },
    {
      "cell_type": "code",
      "metadata": {
        "id": "CodIZj2gtmGi",
        "colab_type": "code",
        "colab": {
          "base_uri": "https://localhost:8080/",
          "height": 218
        },
        "outputId": "c5005d61-ed47-4c56-b82f-804d9c946d4d"
      },
      "source": [
        "fb['likes'].value_counts()"
      ],
      "execution_count": 111,
      "outputs": [
        {
          "output_type": "execute_result",
          "data": {
            "text/plain": [
              "0       22308\n",
              "1        6928\n",
              "2        4434\n",
              "3        3240\n",
              "4        2507\n",
              "        ...  \n",
              "5591        1\n",
              "3668        1\n",
              "1685        1\n",
              "1749        1\n",
              "2047        1\n",
              "Name: likes, Length: 2924, dtype: int64"
            ]
          },
          "metadata": {
            "tags": []
          },
          "execution_count": 111
        }
      ]
    },
    {
      "cell_type": "code",
      "metadata": {
        "id": "3gKTxJSiSe-L",
        "colab_type": "code",
        "colab": {}
      },
      "source": [
        ""
      ],
      "execution_count": 0,
      "outputs": []
    },
    {
      "cell_type": "markdown",
      "metadata": {
        "id": "2ThwVdnZUyUC",
        "colab_type": "text"
      },
      "source": [
        "## finding for NA's in data\n"
      ]
    },
    {
      "cell_type": "code",
      "metadata": {
        "id": "rzFzyZefU-yL",
        "colab_type": "code",
        "outputId": "d15c20c1-a118-4068-de7a-d3d775caca28",
        "colab": {
          "base_uri": "https://localhost:8080/",
          "height": 451
        }
      },
      "source": [
        "fb.isna()"
      ],
      "execution_count": 112,
      "outputs": [
        {
          "output_type": "execute_result",
          "data": {
            "text/html": [
              "<div>\n",
              "<style scoped>\n",
              "    .dataframe tbody tr th:only-of-type {\n",
              "        vertical-align: middle;\n",
              "    }\n",
              "\n",
              "    .dataframe tbody tr th {\n",
              "        vertical-align: top;\n",
              "    }\n",
              "\n",
              "    .dataframe thead th {\n",
              "        text-align: right;\n",
              "    }\n",
              "</style>\n",
              "<table border=\"1\" class=\"dataframe\">\n",
              "  <thead>\n",
              "    <tr style=\"text-align: right;\">\n",
              "      <th></th>\n",
              "      <th>age</th>\n",
              "      <th>dob_day</th>\n",
              "      <th>dob_year</th>\n",
              "      <th>dob_month</th>\n",
              "      <th>gender</th>\n",
              "      <th>tenure</th>\n",
              "      <th>friend_count</th>\n",
              "      <th>friendships_initiated</th>\n",
              "      <th>likes</th>\n",
              "      <th>likes_received</th>\n",
              "      <th>mobile_likes</th>\n",
              "      <th>mobile_likes_received</th>\n",
              "      <th>www_likes</th>\n",
              "      <th>www_likes_received</th>\n",
              "    </tr>\n",
              "    <tr>\n",
              "      <th>userid</th>\n",
              "      <th></th>\n",
              "      <th></th>\n",
              "      <th></th>\n",
              "      <th></th>\n",
              "      <th></th>\n",
              "      <th></th>\n",
              "      <th></th>\n",
              "      <th></th>\n",
              "      <th></th>\n",
              "      <th></th>\n",
              "      <th></th>\n",
              "      <th></th>\n",
              "      <th></th>\n",
              "      <th></th>\n",
              "    </tr>\n",
              "  </thead>\n",
              "  <tbody>\n",
              "    <tr>\n",
              "      <th>2094382</th>\n",
              "      <td>False</td>\n",
              "      <td>False</td>\n",
              "      <td>False</td>\n",
              "      <td>False</td>\n",
              "      <td>False</td>\n",
              "      <td>False</td>\n",
              "      <td>False</td>\n",
              "      <td>False</td>\n",
              "      <td>False</td>\n",
              "      <td>False</td>\n",
              "      <td>False</td>\n",
              "      <td>False</td>\n",
              "      <td>False</td>\n",
              "      <td>False</td>\n",
              "    </tr>\n",
              "    <tr>\n",
              "      <th>1192601</th>\n",
              "      <td>False</td>\n",
              "      <td>False</td>\n",
              "      <td>False</td>\n",
              "      <td>False</td>\n",
              "      <td>False</td>\n",
              "      <td>False</td>\n",
              "      <td>False</td>\n",
              "      <td>False</td>\n",
              "      <td>False</td>\n",
              "      <td>False</td>\n",
              "      <td>False</td>\n",
              "      <td>False</td>\n",
              "      <td>False</td>\n",
              "      <td>False</td>\n",
              "    </tr>\n",
              "    <tr>\n",
              "      <th>2083884</th>\n",
              "      <td>False</td>\n",
              "      <td>False</td>\n",
              "      <td>False</td>\n",
              "      <td>False</td>\n",
              "      <td>False</td>\n",
              "      <td>False</td>\n",
              "      <td>False</td>\n",
              "      <td>False</td>\n",
              "      <td>False</td>\n",
              "      <td>False</td>\n",
              "      <td>False</td>\n",
              "      <td>False</td>\n",
              "      <td>False</td>\n",
              "      <td>False</td>\n",
              "    </tr>\n",
              "    <tr>\n",
              "      <th>1203168</th>\n",
              "      <td>False</td>\n",
              "      <td>False</td>\n",
              "      <td>False</td>\n",
              "      <td>False</td>\n",
              "      <td>False</td>\n",
              "      <td>False</td>\n",
              "      <td>False</td>\n",
              "      <td>False</td>\n",
              "      <td>False</td>\n",
              "      <td>False</td>\n",
              "      <td>False</td>\n",
              "      <td>False</td>\n",
              "      <td>False</td>\n",
              "      <td>False</td>\n",
              "    </tr>\n",
              "    <tr>\n",
              "      <th>1733186</th>\n",
              "      <td>False</td>\n",
              "      <td>False</td>\n",
              "      <td>False</td>\n",
              "      <td>False</td>\n",
              "      <td>False</td>\n",
              "      <td>False</td>\n",
              "      <td>False</td>\n",
              "      <td>False</td>\n",
              "      <td>False</td>\n",
              "      <td>False</td>\n",
              "      <td>False</td>\n",
              "      <td>False</td>\n",
              "      <td>False</td>\n",
              "      <td>False</td>\n",
              "    </tr>\n",
              "    <tr>\n",
              "      <th>...</th>\n",
              "      <td>...</td>\n",
              "      <td>...</td>\n",
              "      <td>...</td>\n",
              "      <td>...</td>\n",
              "      <td>...</td>\n",
              "      <td>...</td>\n",
              "      <td>...</td>\n",
              "      <td>...</td>\n",
              "      <td>...</td>\n",
              "      <td>...</td>\n",
              "      <td>...</td>\n",
              "      <td>...</td>\n",
              "      <td>...</td>\n",
              "      <td>...</td>\n",
              "    </tr>\n",
              "    <tr>\n",
              "      <th>1268299</th>\n",
              "      <td>False</td>\n",
              "      <td>False</td>\n",
              "      <td>False</td>\n",
              "      <td>False</td>\n",
              "      <td>False</td>\n",
              "      <td>False</td>\n",
              "      <td>False</td>\n",
              "      <td>False</td>\n",
              "      <td>False</td>\n",
              "      <td>False</td>\n",
              "      <td>False</td>\n",
              "      <td>False</td>\n",
              "      <td>False</td>\n",
              "      <td>False</td>\n",
              "    </tr>\n",
              "    <tr>\n",
              "      <th>1256153</th>\n",
              "      <td>False</td>\n",
              "      <td>False</td>\n",
              "      <td>False</td>\n",
              "      <td>False</td>\n",
              "      <td>False</td>\n",
              "      <td>False</td>\n",
              "      <td>False</td>\n",
              "      <td>False</td>\n",
              "      <td>False</td>\n",
              "      <td>False</td>\n",
              "      <td>False</td>\n",
              "      <td>False</td>\n",
              "      <td>False</td>\n",
              "      <td>False</td>\n",
              "    </tr>\n",
              "    <tr>\n",
              "      <th>1195943</th>\n",
              "      <td>False</td>\n",
              "      <td>False</td>\n",
              "      <td>False</td>\n",
              "      <td>False</td>\n",
              "      <td>False</td>\n",
              "      <td>False</td>\n",
              "      <td>False</td>\n",
              "      <td>False</td>\n",
              "      <td>False</td>\n",
              "      <td>False</td>\n",
              "      <td>False</td>\n",
              "      <td>False</td>\n",
              "      <td>False</td>\n",
              "      <td>False</td>\n",
              "    </tr>\n",
              "    <tr>\n",
              "      <th>1468023</th>\n",
              "      <td>False</td>\n",
              "      <td>False</td>\n",
              "      <td>False</td>\n",
              "      <td>False</td>\n",
              "      <td>False</td>\n",
              "      <td>False</td>\n",
              "      <td>False</td>\n",
              "      <td>False</td>\n",
              "      <td>False</td>\n",
              "      <td>False</td>\n",
              "      <td>False</td>\n",
              "      <td>False</td>\n",
              "      <td>False</td>\n",
              "      <td>False</td>\n",
              "    </tr>\n",
              "    <tr>\n",
              "      <th>1397896</th>\n",
              "      <td>False</td>\n",
              "      <td>False</td>\n",
              "      <td>False</td>\n",
              "      <td>False</td>\n",
              "      <td>False</td>\n",
              "      <td>False</td>\n",
              "      <td>False</td>\n",
              "      <td>False</td>\n",
              "      <td>False</td>\n",
              "      <td>False</td>\n",
              "      <td>False</td>\n",
              "      <td>False</td>\n",
              "      <td>False</td>\n",
              "      <td>False</td>\n",
              "    </tr>\n",
              "  </tbody>\n",
              "</table>\n",
              "<p>99003 rows × 14 columns</p>\n",
              "</div>"
            ],
            "text/plain": [
              "           age  dob_day  ...  www_likes  www_likes_received\n",
              "userid                   ...                               \n",
              "2094382  False    False  ...      False               False\n",
              "1192601  False    False  ...      False               False\n",
              "2083884  False    False  ...      False               False\n",
              "1203168  False    False  ...      False               False\n",
              "1733186  False    False  ...      False               False\n",
              "...        ...      ...  ...        ...                 ...\n",
              "1268299  False    False  ...      False               False\n",
              "1256153  False    False  ...      False               False\n",
              "1195943  False    False  ...      False               False\n",
              "1468023  False    False  ...      False               False\n",
              "1397896  False    False  ...      False               False\n",
              "\n",
              "[99003 rows x 14 columns]"
            ]
          },
          "metadata": {
            "tags": []
          },
          "execution_count": 112
        }
      ]
    },
    {
      "cell_type": "markdown",
      "metadata": {
        "id": "dBRsupKjWH1E",
        "colab_type": "text"
      },
      "source": [
        "##Filling NA'S with 0"
      ]
    },
    {
      "cell_type": "code",
      "metadata": {
        "id": "9B9G2zXYWNQo",
        "colab_type": "code",
        "outputId": "38a56fb1-98af-4966-d3dc-d1611ed7c17b",
        "colab": {
          "base_uri": "https://localhost:8080/",
          "height": 451
        }
      },
      "source": [
        "fb.fillna(0)"
      ],
      "execution_count": 113,
      "outputs": [
        {
          "output_type": "execute_result",
          "data": {
            "text/html": [
              "<div>\n",
              "<style scoped>\n",
              "    .dataframe tbody tr th:only-of-type {\n",
              "        vertical-align: middle;\n",
              "    }\n",
              "\n",
              "    .dataframe tbody tr th {\n",
              "        vertical-align: top;\n",
              "    }\n",
              "\n",
              "    .dataframe thead th {\n",
              "        text-align: right;\n",
              "    }\n",
              "</style>\n",
              "<table border=\"1\" class=\"dataframe\">\n",
              "  <thead>\n",
              "    <tr style=\"text-align: right;\">\n",
              "      <th></th>\n",
              "      <th>age</th>\n",
              "      <th>dob_day</th>\n",
              "      <th>dob_year</th>\n",
              "      <th>dob_month</th>\n",
              "      <th>gender</th>\n",
              "      <th>tenure</th>\n",
              "      <th>friend_count</th>\n",
              "      <th>friendships_initiated</th>\n",
              "      <th>likes</th>\n",
              "      <th>likes_received</th>\n",
              "      <th>mobile_likes</th>\n",
              "      <th>mobile_likes_received</th>\n",
              "      <th>www_likes</th>\n",
              "      <th>www_likes_received</th>\n",
              "    </tr>\n",
              "    <tr>\n",
              "      <th>userid</th>\n",
              "      <th></th>\n",
              "      <th></th>\n",
              "      <th></th>\n",
              "      <th></th>\n",
              "      <th></th>\n",
              "      <th></th>\n",
              "      <th></th>\n",
              "      <th></th>\n",
              "      <th></th>\n",
              "      <th></th>\n",
              "      <th></th>\n",
              "      <th></th>\n",
              "      <th></th>\n",
              "      <th></th>\n",
              "    </tr>\n",
              "  </thead>\n",
              "  <tbody>\n",
              "    <tr>\n",
              "      <th>2094382</th>\n",
              "      <td>14</td>\n",
              "      <td>19</td>\n",
              "      <td>1999</td>\n",
              "      <td>11</td>\n",
              "      <td>male</td>\n",
              "      <td>266.0</td>\n",
              "      <td>0</td>\n",
              "      <td>0</td>\n",
              "      <td>0</td>\n",
              "      <td>0</td>\n",
              "      <td>0</td>\n",
              "      <td>0</td>\n",
              "      <td>0</td>\n",
              "      <td>0</td>\n",
              "    </tr>\n",
              "    <tr>\n",
              "      <th>1192601</th>\n",
              "      <td>14</td>\n",
              "      <td>2</td>\n",
              "      <td>1999</td>\n",
              "      <td>11</td>\n",
              "      <td>female</td>\n",
              "      <td>6.0</td>\n",
              "      <td>0</td>\n",
              "      <td>0</td>\n",
              "      <td>0</td>\n",
              "      <td>0</td>\n",
              "      <td>0</td>\n",
              "      <td>0</td>\n",
              "      <td>0</td>\n",
              "      <td>0</td>\n",
              "    </tr>\n",
              "    <tr>\n",
              "      <th>2083884</th>\n",
              "      <td>14</td>\n",
              "      <td>16</td>\n",
              "      <td>1999</td>\n",
              "      <td>11</td>\n",
              "      <td>male</td>\n",
              "      <td>13.0</td>\n",
              "      <td>0</td>\n",
              "      <td>0</td>\n",
              "      <td>0</td>\n",
              "      <td>0</td>\n",
              "      <td>0</td>\n",
              "      <td>0</td>\n",
              "      <td>0</td>\n",
              "      <td>0</td>\n",
              "    </tr>\n",
              "    <tr>\n",
              "      <th>1203168</th>\n",
              "      <td>14</td>\n",
              "      <td>25</td>\n",
              "      <td>1999</td>\n",
              "      <td>12</td>\n",
              "      <td>female</td>\n",
              "      <td>93.0</td>\n",
              "      <td>0</td>\n",
              "      <td>0</td>\n",
              "      <td>0</td>\n",
              "      <td>0</td>\n",
              "      <td>0</td>\n",
              "      <td>0</td>\n",
              "      <td>0</td>\n",
              "      <td>0</td>\n",
              "    </tr>\n",
              "    <tr>\n",
              "      <th>1733186</th>\n",
              "      <td>14</td>\n",
              "      <td>4</td>\n",
              "      <td>1999</td>\n",
              "      <td>12</td>\n",
              "      <td>male</td>\n",
              "      <td>82.0</td>\n",
              "      <td>0</td>\n",
              "      <td>0</td>\n",
              "      <td>0</td>\n",
              "      <td>0</td>\n",
              "      <td>0</td>\n",
              "      <td>0</td>\n",
              "      <td>0</td>\n",
              "      <td>0</td>\n",
              "    </tr>\n",
              "    <tr>\n",
              "      <th>...</th>\n",
              "      <td>...</td>\n",
              "      <td>...</td>\n",
              "      <td>...</td>\n",
              "      <td>...</td>\n",
              "      <td>...</td>\n",
              "      <td>...</td>\n",
              "      <td>...</td>\n",
              "      <td>...</td>\n",
              "      <td>...</td>\n",
              "      <td>...</td>\n",
              "      <td>...</td>\n",
              "      <td>...</td>\n",
              "      <td>...</td>\n",
              "      <td>...</td>\n",
              "    </tr>\n",
              "    <tr>\n",
              "      <th>1268299</th>\n",
              "      <td>68</td>\n",
              "      <td>4</td>\n",
              "      <td>1945</td>\n",
              "      <td>4</td>\n",
              "      <td>female</td>\n",
              "      <td>541.0</td>\n",
              "      <td>2118</td>\n",
              "      <td>341</td>\n",
              "      <td>3996</td>\n",
              "      <td>18089</td>\n",
              "      <td>3505</td>\n",
              "      <td>11887</td>\n",
              "      <td>491</td>\n",
              "      <td>6202</td>\n",
              "    </tr>\n",
              "    <tr>\n",
              "      <th>1256153</th>\n",
              "      <td>18</td>\n",
              "      <td>12</td>\n",
              "      <td>1995</td>\n",
              "      <td>3</td>\n",
              "      <td>female</td>\n",
              "      <td>21.0</td>\n",
              "      <td>1968</td>\n",
              "      <td>1720</td>\n",
              "      <td>4401</td>\n",
              "      <td>13412</td>\n",
              "      <td>4399</td>\n",
              "      <td>10592</td>\n",
              "      <td>2</td>\n",
              "      <td>2820</td>\n",
              "    </tr>\n",
              "    <tr>\n",
              "      <th>1195943</th>\n",
              "      <td>15</td>\n",
              "      <td>10</td>\n",
              "      <td>1998</td>\n",
              "      <td>5</td>\n",
              "      <td>female</td>\n",
              "      <td>111.0</td>\n",
              "      <td>2002</td>\n",
              "      <td>1524</td>\n",
              "      <td>11959</td>\n",
              "      <td>12554</td>\n",
              "      <td>11959</td>\n",
              "      <td>11462</td>\n",
              "      <td>0</td>\n",
              "      <td>1092</td>\n",
              "    </tr>\n",
              "    <tr>\n",
              "      <th>1468023</th>\n",
              "      <td>23</td>\n",
              "      <td>11</td>\n",
              "      <td>1990</td>\n",
              "      <td>4</td>\n",
              "      <td>female</td>\n",
              "      <td>416.0</td>\n",
              "      <td>2560</td>\n",
              "      <td>185</td>\n",
              "      <td>4506</td>\n",
              "      <td>6516</td>\n",
              "      <td>4506</td>\n",
              "      <td>5760</td>\n",
              "      <td>0</td>\n",
              "      <td>756</td>\n",
              "    </tr>\n",
              "    <tr>\n",
              "      <th>1397896</th>\n",
              "      <td>39</td>\n",
              "      <td>15</td>\n",
              "      <td>1974</td>\n",
              "      <td>5</td>\n",
              "      <td>female</td>\n",
              "      <td>397.0</td>\n",
              "      <td>2049</td>\n",
              "      <td>768</td>\n",
              "      <td>9410</td>\n",
              "      <td>12443</td>\n",
              "      <td>9410</td>\n",
              "      <td>9530</td>\n",
              "      <td>0</td>\n",
              "      <td>2913</td>\n",
              "    </tr>\n",
              "  </tbody>\n",
              "</table>\n",
              "<p>99003 rows × 14 columns</p>\n",
              "</div>"
            ],
            "text/plain": [
              "         age  dob_day  ...  www_likes  www_likes_received\n",
              "userid                 ...                               \n",
              "2094382   14       19  ...          0                   0\n",
              "1192601   14        2  ...          0                   0\n",
              "2083884   14       16  ...          0                   0\n",
              "1203168   14       25  ...          0                   0\n",
              "1733186   14        4  ...          0                   0\n",
              "...      ...      ...  ...        ...                 ...\n",
              "1268299   68        4  ...        491                6202\n",
              "1256153   18       12  ...          2                2820\n",
              "1195943   15       10  ...          0                1092\n",
              "1468023   23       11  ...          0                 756\n",
              "1397896   39       15  ...          0                2913\n",
              "\n",
              "[99003 rows x 14 columns]"
            ]
          },
          "metadata": {
            "tags": []
          },
          "execution_count": 113
        }
      ]
    },
    {
      "cell_type": "markdown",
      "metadata": {
        "id": "7XWtSWPoWyRo",
        "colab_type": "text"
      },
      "source": [
        "##filling NA with constants"
      ]
    },
    {
      "cell_type": "code",
      "metadata": {
        "id": "ShVn8ZjJW4pb",
        "colab_type": "code",
        "outputId": "0a430c03-b336-44ea-85d6-fb4e2438ba30",
        "colab": {
          "base_uri": "https://localhost:8080/",
          "height": 451
        }
      },
      "source": [
        "fb.fillna(\"Not available\",inplace=True)\n",
        "fb"
      ],
      "execution_count": 114,
      "outputs": [
        {
          "output_type": "execute_result",
          "data": {
            "text/html": [
              "<div>\n",
              "<style scoped>\n",
              "    .dataframe tbody tr th:only-of-type {\n",
              "        vertical-align: middle;\n",
              "    }\n",
              "\n",
              "    .dataframe tbody tr th {\n",
              "        vertical-align: top;\n",
              "    }\n",
              "\n",
              "    .dataframe thead th {\n",
              "        text-align: right;\n",
              "    }\n",
              "</style>\n",
              "<table border=\"1\" class=\"dataframe\">\n",
              "  <thead>\n",
              "    <tr style=\"text-align: right;\">\n",
              "      <th></th>\n",
              "      <th>age</th>\n",
              "      <th>dob_day</th>\n",
              "      <th>dob_year</th>\n",
              "      <th>dob_month</th>\n",
              "      <th>gender</th>\n",
              "      <th>tenure</th>\n",
              "      <th>friend_count</th>\n",
              "      <th>friendships_initiated</th>\n",
              "      <th>likes</th>\n",
              "      <th>likes_received</th>\n",
              "      <th>mobile_likes</th>\n",
              "      <th>mobile_likes_received</th>\n",
              "      <th>www_likes</th>\n",
              "      <th>www_likes_received</th>\n",
              "    </tr>\n",
              "    <tr>\n",
              "      <th>userid</th>\n",
              "      <th></th>\n",
              "      <th></th>\n",
              "      <th></th>\n",
              "      <th></th>\n",
              "      <th></th>\n",
              "      <th></th>\n",
              "      <th></th>\n",
              "      <th></th>\n",
              "      <th></th>\n",
              "      <th></th>\n",
              "      <th></th>\n",
              "      <th></th>\n",
              "      <th></th>\n",
              "      <th></th>\n",
              "    </tr>\n",
              "  </thead>\n",
              "  <tbody>\n",
              "    <tr>\n",
              "      <th>2094382</th>\n",
              "      <td>14</td>\n",
              "      <td>19</td>\n",
              "      <td>1999</td>\n",
              "      <td>11</td>\n",
              "      <td>male</td>\n",
              "      <td>266</td>\n",
              "      <td>0</td>\n",
              "      <td>0</td>\n",
              "      <td>0</td>\n",
              "      <td>0</td>\n",
              "      <td>0</td>\n",
              "      <td>0</td>\n",
              "      <td>0</td>\n",
              "      <td>0</td>\n",
              "    </tr>\n",
              "    <tr>\n",
              "      <th>1192601</th>\n",
              "      <td>14</td>\n",
              "      <td>2</td>\n",
              "      <td>1999</td>\n",
              "      <td>11</td>\n",
              "      <td>female</td>\n",
              "      <td>6</td>\n",
              "      <td>0</td>\n",
              "      <td>0</td>\n",
              "      <td>0</td>\n",
              "      <td>0</td>\n",
              "      <td>0</td>\n",
              "      <td>0</td>\n",
              "      <td>0</td>\n",
              "      <td>0</td>\n",
              "    </tr>\n",
              "    <tr>\n",
              "      <th>2083884</th>\n",
              "      <td>14</td>\n",
              "      <td>16</td>\n",
              "      <td>1999</td>\n",
              "      <td>11</td>\n",
              "      <td>male</td>\n",
              "      <td>13</td>\n",
              "      <td>0</td>\n",
              "      <td>0</td>\n",
              "      <td>0</td>\n",
              "      <td>0</td>\n",
              "      <td>0</td>\n",
              "      <td>0</td>\n",
              "      <td>0</td>\n",
              "      <td>0</td>\n",
              "    </tr>\n",
              "    <tr>\n",
              "      <th>1203168</th>\n",
              "      <td>14</td>\n",
              "      <td>25</td>\n",
              "      <td>1999</td>\n",
              "      <td>12</td>\n",
              "      <td>female</td>\n",
              "      <td>93</td>\n",
              "      <td>0</td>\n",
              "      <td>0</td>\n",
              "      <td>0</td>\n",
              "      <td>0</td>\n",
              "      <td>0</td>\n",
              "      <td>0</td>\n",
              "      <td>0</td>\n",
              "      <td>0</td>\n",
              "    </tr>\n",
              "    <tr>\n",
              "      <th>1733186</th>\n",
              "      <td>14</td>\n",
              "      <td>4</td>\n",
              "      <td>1999</td>\n",
              "      <td>12</td>\n",
              "      <td>male</td>\n",
              "      <td>82</td>\n",
              "      <td>0</td>\n",
              "      <td>0</td>\n",
              "      <td>0</td>\n",
              "      <td>0</td>\n",
              "      <td>0</td>\n",
              "      <td>0</td>\n",
              "      <td>0</td>\n",
              "      <td>0</td>\n",
              "    </tr>\n",
              "    <tr>\n",
              "      <th>...</th>\n",
              "      <td>...</td>\n",
              "      <td>...</td>\n",
              "      <td>...</td>\n",
              "      <td>...</td>\n",
              "      <td>...</td>\n",
              "      <td>...</td>\n",
              "      <td>...</td>\n",
              "      <td>...</td>\n",
              "      <td>...</td>\n",
              "      <td>...</td>\n",
              "      <td>...</td>\n",
              "      <td>...</td>\n",
              "      <td>...</td>\n",
              "      <td>...</td>\n",
              "    </tr>\n",
              "    <tr>\n",
              "      <th>1268299</th>\n",
              "      <td>68</td>\n",
              "      <td>4</td>\n",
              "      <td>1945</td>\n",
              "      <td>4</td>\n",
              "      <td>female</td>\n",
              "      <td>541</td>\n",
              "      <td>2118</td>\n",
              "      <td>341</td>\n",
              "      <td>3996</td>\n",
              "      <td>18089</td>\n",
              "      <td>3505</td>\n",
              "      <td>11887</td>\n",
              "      <td>491</td>\n",
              "      <td>6202</td>\n",
              "    </tr>\n",
              "    <tr>\n",
              "      <th>1256153</th>\n",
              "      <td>18</td>\n",
              "      <td>12</td>\n",
              "      <td>1995</td>\n",
              "      <td>3</td>\n",
              "      <td>female</td>\n",
              "      <td>21</td>\n",
              "      <td>1968</td>\n",
              "      <td>1720</td>\n",
              "      <td>4401</td>\n",
              "      <td>13412</td>\n",
              "      <td>4399</td>\n",
              "      <td>10592</td>\n",
              "      <td>2</td>\n",
              "      <td>2820</td>\n",
              "    </tr>\n",
              "    <tr>\n",
              "      <th>1195943</th>\n",
              "      <td>15</td>\n",
              "      <td>10</td>\n",
              "      <td>1998</td>\n",
              "      <td>5</td>\n",
              "      <td>female</td>\n",
              "      <td>111</td>\n",
              "      <td>2002</td>\n",
              "      <td>1524</td>\n",
              "      <td>11959</td>\n",
              "      <td>12554</td>\n",
              "      <td>11959</td>\n",
              "      <td>11462</td>\n",
              "      <td>0</td>\n",
              "      <td>1092</td>\n",
              "    </tr>\n",
              "    <tr>\n",
              "      <th>1468023</th>\n",
              "      <td>23</td>\n",
              "      <td>11</td>\n",
              "      <td>1990</td>\n",
              "      <td>4</td>\n",
              "      <td>female</td>\n",
              "      <td>416</td>\n",
              "      <td>2560</td>\n",
              "      <td>185</td>\n",
              "      <td>4506</td>\n",
              "      <td>6516</td>\n",
              "      <td>4506</td>\n",
              "      <td>5760</td>\n",
              "      <td>0</td>\n",
              "      <td>756</td>\n",
              "    </tr>\n",
              "    <tr>\n",
              "      <th>1397896</th>\n",
              "      <td>39</td>\n",
              "      <td>15</td>\n",
              "      <td>1974</td>\n",
              "      <td>5</td>\n",
              "      <td>female</td>\n",
              "      <td>397</td>\n",
              "      <td>2049</td>\n",
              "      <td>768</td>\n",
              "      <td>9410</td>\n",
              "      <td>12443</td>\n",
              "      <td>9410</td>\n",
              "      <td>9530</td>\n",
              "      <td>0</td>\n",
              "      <td>2913</td>\n",
              "    </tr>\n",
              "  </tbody>\n",
              "</table>\n",
              "<p>99003 rows × 14 columns</p>\n",
              "</div>"
            ],
            "text/plain": [
              "         age  dob_day  ...  www_likes  www_likes_received\n",
              "userid                 ...                               \n",
              "2094382   14       19  ...          0                   0\n",
              "1192601   14        2  ...          0                   0\n",
              "2083884   14       16  ...          0                   0\n",
              "1203168   14       25  ...          0                   0\n",
              "1733186   14        4  ...          0                   0\n",
              "...      ...      ...  ...        ...                 ...\n",
              "1268299   68        4  ...        491                6202\n",
              "1256153   18       12  ...          2                2820\n",
              "1195943   15       10  ...          0                1092\n",
              "1468023   23       11  ...          0                 756\n",
              "1397896   39       15  ...          0                2913\n",
              "\n",
              "[99003 rows x 14 columns]"
            ]
          },
          "metadata": {
            "tags": []
          },
          "execution_count": 114
        }
      ]
    },
    {
      "cell_type": "markdown",
      "metadata": {
        "id": "TGbI1__nXQKm",
        "colab_type": "text"
      },
      "source": [
        "# filling missing values"
      ]
    },
    {
      "cell_type": "code",
      "metadata": {
        "id": "9d0mG8q1XUjX",
        "colab_type": "code",
        "outputId": "6262ffb0-b4a2-4af1-b6f8-ee0d70d1cd1a",
        "colab": {
          "base_uri": "https://localhost:8080/",
          "height": 470
        }
      },
      "source": [
        "fb.interpolate(method=\"linear\")\n",
        "fb"
      ],
      "execution_count": 0,
      "outputs": [
        {
          "output_type": "execute_result",
          "data": {
            "text/html": [
              "<div>\n",
              "<style scoped>\n",
              "    .dataframe tbody tr th:only-of-type {\n",
              "        vertical-align: middle;\n",
              "    }\n",
              "\n",
              "    .dataframe tbody tr th {\n",
              "        vertical-align: top;\n",
              "    }\n",
              "\n",
              "    .dataframe thead th {\n",
              "        text-align: right;\n",
              "    }\n",
              "</style>\n",
              "<table border=\"1\" class=\"dataframe\">\n",
              "  <thead>\n",
              "    <tr style=\"text-align: right;\">\n",
              "      <th></th>\n",
              "      <th>age</th>\n",
              "      <th>dob_day</th>\n",
              "      <th>dob_year</th>\n",
              "      <th>dob_month</th>\n",
              "      <th>gender</th>\n",
              "      <th>tenure</th>\n",
              "      <th>friend_count</th>\n",
              "      <th>friendships_initiated</th>\n",
              "      <th>likes</th>\n",
              "      <th>likes_received</th>\n",
              "      <th>mobile_likes</th>\n",
              "      <th>mobile_likes_received</th>\n",
              "      <th>www_likes</th>\n",
              "      <th>www_likes_received</th>\n",
              "    </tr>\n",
              "    <tr>\n",
              "      <th>userid</th>\n",
              "      <th></th>\n",
              "      <th></th>\n",
              "      <th></th>\n",
              "      <th></th>\n",
              "      <th></th>\n",
              "      <th></th>\n",
              "      <th></th>\n",
              "      <th></th>\n",
              "      <th></th>\n",
              "      <th></th>\n",
              "      <th></th>\n",
              "      <th></th>\n",
              "      <th></th>\n",
              "      <th></th>\n",
              "    </tr>\n",
              "  </thead>\n",
              "  <tbody>\n",
              "    <tr>\n",
              "      <th>2094382</th>\n",
              "      <td>14</td>\n",
              "      <td>19</td>\n",
              "      <td>1999</td>\n",
              "      <td>11</td>\n",
              "      <td>male</td>\n",
              "      <td>266</td>\n",
              "      <td>0</td>\n",
              "      <td>0</td>\n",
              "      <td>0</td>\n",
              "      <td>0</td>\n",
              "      <td>0</td>\n",
              "      <td>0</td>\n",
              "      <td>0</td>\n",
              "      <td>0</td>\n",
              "    </tr>\n",
              "    <tr>\n",
              "      <th>1192601</th>\n",
              "      <td>14</td>\n",
              "      <td>2</td>\n",
              "      <td>1999</td>\n",
              "      <td>11</td>\n",
              "      <td>female</td>\n",
              "      <td>6</td>\n",
              "      <td>0</td>\n",
              "      <td>0</td>\n",
              "      <td>0</td>\n",
              "      <td>0</td>\n",
              "      <td>0</td>\n",
              "      <td>0</td>\n",
              "      <td>0</td>\n",
              "      <td>0</td>\n",
              "    </tr>\n",
              "    <tr>\n",
              "      <th>2083884</th>\n",
              "      <td>14</td>\n",
              "      <td>16</td>\n",
              "      <td>1999</td>\n",
              "      <td>11</td>\n",
              "      <td>male</td>\n",
              "      <td>13</td>\n",
              "      <td>0</td>\n",
              "      <td>0</td>\n",
              "      <td>0</td>\n",
              "      <td>0</td>\n",
              "      <td>0</td>\n",
              "      <td>0</td>\n",
              "      <td>0</td>\n",
              "      <td>0</td>\n",
              "    </tr>\n",
              "    <tr>\n",
              "      <th>1203168</th>\n",
              "      <td>14</td>\n",
              "      <td>25</td>\n",
              "      <td>1999</td>\n",
              "      <td>12</td>\n",
              "      <td>female</td>\n",
              "      <td>93</td>\n",
              "      <td>0</td>\n",
              "      <td>0</td>\n",
              "      <td>0</td>\n",
              "      <td>0</td>\n",
              "      <td>0</td>\n",
              "      <td>0</td>\n",
              "      <td>0</td>\n",
              "      <td>0</td>\n",
              "    </tr>\n",
              "    <tr>\n",
              "      <th>1733186</th>\n",
              "      <td>14</td>\n",
              "      <td>4</td>\n",
              "      <td>1999</td>\n",
              "      <td>12</td>\n",
              "      <td>male</td>\n",
              "      <td>82</td>\n",
              "      <td>0</td>\n",
              "      <td>0</td>\n",
              "      <td>0</td>\n",
              "      <td>0</td>\n",
              "      <td>0</td>\n",
              "      <td>0</td>\n",
              "      <td>0</td>\n",
              "      <td>0</td>\n",
              "    </tr>\n",
              "    <tr>\n",
              "      <th>...</th>\n",
              "      <td>...</td>\n",
              "      <td>...</td>\n",
              "      <td>...</td>\n",
              "      <td>...</td>\n",
              "      <td>...</td>\n",
              "      <td>...</td>\n",
              "      <td>...</td>\n",
              "      <td>...</td>\n",
              "      <td>...</td>\n",
              "      <td>...</td>\n",
              "      <td>...</td>\n",
              "      <td>...</td>\n",
              "      <td>...</td>\n",
              "      <td>...</td>\n",
              "    </tr>\n",
              "    <tr>\n",
              "      <th>1268299</th>\n",
              "      <td>68</td>\n",
              "      <td>4</td>\n",
              "      <td>1945</td>\n",
              "      <td>4</td>\n",
              "      <td>female</td>\n",
              "      <td>541</td>\n",
              "      <td>2118</td>\n",
              "      <td>341</td>\n",
              "      <td>3996</td>\n",
              "      <td>18089</td>\n",
              "      <td>3505</td>\n",
              "      <td>11887</td>\n",
              "      <td>491</td>\n",
              "      <td>6202</td>\n",
              "    </tr>\n",
              "    <tr>\n",
              "      <th>1256153</th>\n",
              "      <td>18</td>\n",
              "      <td>12</td>\n",
              "      <td>1995</td>\n",
              "      <td>3</td>\n",
              "      <td>female</td>\n",
              "      <td>21</td>\n",
              "      <td>1968</td>\n",
              "      <td>1720</td>\n",
              "      <td>4401</td>\n",
              "      <td>13412</td>\n",
              "      <td>4399</td>\n",
              "      <td>10592</td>\n",
              "      <td>2</td>\n",
              "      <td>2820</td>\n",
              "    </tr>\n",
              "    <tr>\n",
              "      <th>1195943</th>\n",
              "      <td>15</td>\n",
              "      <td>10</td>\n",
              "      <td>1998</td>\n",
              "      <td>5</td>\n",
              "      <td>female</td>\n",
              "      <td>111</td>\n",
              "      <td>2002</td>\n",
              "      <td>1524</td>\n",
              "      <td>11959</td>\n",
              "      <td>12554</td>\n",
              "      <td>11959</td>\n",
              "      <td>11462</td>\n",
              "      <td>0</td>\n",
              "      <td>1092</td>\n",
              "    </tr>\n",
              "    <tr>\n",
              "      <th>1468023</th>\n",
              "      <td>23</td>\n",
              "      <td>11</td>\n",
              "      <td>1990</td>\n",
              "      <td>4</td>\n",
              "      <td>female</td>\n",
              "      <td>416</td>\n",
              "      <td>2560</td>\n",
              "      <td>185</td>\n",
              "      <td>4506</td>\n",
              "      <td>6516</td>\n",
              "      <td>4506</td>\n",
              "      <td>5760</td>\n",
              "      <td>0</td>\n",
              "      <td>756</td>\n",
              "    </tr>\n",
              "    <tr>\n",
              "      <th>1397896</th>\n",
              "      <td>39</td>\n",
              "      <td>15</td>\n",
              "      <td>1974</td>\n",
              "      <td>5</td>\n",
              "      <td>female</td>\n",
              "      <td>397</td>\n",
              "      <td>2049</td>\n",
              "      <td>768</td>\n",
              "      <td>9410</td>\n",
              "      <td>12443</td>\n",
              "      <td>9410</td>\n",
              "      <td>9530</td>\n",
              "      <td>0</td>\n",
              "      <td>2913</td>\n",
              "    </tr>\n",
              "  </tbody>\n",
              "</table>\n",
              "<p>99003 rows × 14 columns</p>\n",
              "</div>"
            ],
            "text/plain": [
              "         age  dob_day  ...  www_likes  www_likes_received\n",
              "userid                 ...                               \n",
              "2094382   14       19  ...          0                   0\n",
              "1192601   14        2  ...          0                   0\n",
              "2083884   14       16  ...          0                   0\n",
              "1203168   14       25  ...          0                   0\n",
              "1733186   14        4  ...          0                   0\n",
              "...      ...      ...  ...        ...                 ...\n",
              "1268299   68        4  ...        491                6202\n",
              "1256153   18       12  ...          2                2820\n",
              "1195943   15       10  ...          0                1092\n",
              "1468023   23       11  ...          0                 756\n",
              "1397896   39       15  ...          0                2913\n",
              "\n",
              "[99003 rows x 14 columns]"
            ]
          },
          "metadata": {
            "tags": []
          },
          "execution_count": 42
        }
      ]
    },
    {
      "cell_type": "markdown",
      "metadata": {
        "id": "dGBEXqExXeKx",
        "colab_type": "text"
      },
      "source": [
        "# remove rows with NA"
      ]
    },
    {
      "cell_type": "code",
      "metadata": {
        "id": "WmDLsS0wXdi4",
        "colab_type": "code",
        "outputId": "19563cdd-3b1d-48d3-f7f9-2e4a5f845a69",
        "colab": {
          "base_uri": "https://localhost:8080/",
          "height": 269
        }
      },
      "source": [
        "print(fb.dropna())"
      ],
      "execution_count": 115,
      "outputs": [
        {
          "output_type": "stream",
          "text": [
            "         age  dob_day  ...  www_likes  www_likes_received\n",
            "userid                 ...                               \n",
            "2094382   14       19  ...          0                   0\n",
            "1192601   14        2  ...          0                   0\n",
            "2083884   14       16  ...          0                   0\n",
            "1203168   14       25  ...          0                   0\n",
            "1733186   14        4  ...          0                   0\n",
            "...      ...      ...  ...        ...                 ...\n",
            "1268299   68        4  ...        491                6202\n",
            "1256153   18       12  ...          2                2820\n",
            "1195943   15       10  ...          0                1092\n",
            "1468023   23       11  ...          0                 756\n",
            "1397896   39       15  ...          0                2913\n",
            "\n",
            "[99003 rows x 14 columns]\n"
          ],
          "name": "stdout"
        }
      ]
    },
    {
      "cell_type": "code",
      "metadata": {
        "id": "TV7dJhiNWu_f",
        "colab_type": "code",
        "outputId": "a588b3f2-642c-4563-abc2-838e48cee3e6",
        "colab": {
          "base_uri": "https://localhost:8080/",
          "height": 451
        }
      },
      "source": [
        "fb.dropna(how=\"all\")"
      ],
      "execution_count": 116,
      "outputs": [
        {
          "output_type": "execute_result",
          "data": {
            "text/html": [
              "<div>\n",
              "<style scoped>\n",
              "    .dataframe tbody tr th:only-of-type {\n",
              "        vertical-align: middle;\n",
              "    }\n",
              "\n",
              "    .dataframe tbody tr th {\n",
              "        vertical-align: top;\n",
              "    }\n",
              "\n",
              "    .dataframe thead th {\n",
              "        text-align: right;\n",
              "    }\n",
              "</style>\n",
              "<table border=\"1\" class=\"dataframe\">\n",
              "  <thead>\n",
              "    <tr style=\"text-align: right;\">\n",
              "      <th></th>\n",
              "      <th>age</th>\n",
              "      <th>dob_day</th>\n",
              "      <th>dob_year</th>\n",
              "      <th>dob_month</th>\n",
              "      <th>gender</th>\n",
              "      <th>tenure</th>\n",
              "      <th>friend_count</th>\n",
              "      <th>friendships_initiated</th>\n",
              "      <th>likes</th>\n",
              "      <th>likes_received</th>\n",
              "      <th>mobile_likes</th>\n",
              "      <th>mobile_likes_received</th>\n",
              "      <th>www_likes</th>\n",
              "      <th>www_likes_received</th>\n",
              "    </tr>\n",
              "    <tr>\n",
              "      <th>userid</th>\n",
              "      <th></th>\n",
              "      <th></th>\n",
              "      <th></th>\n",
              "      <th></th>\n",
              "      <th></th>\n",
              "      <th></th>\n",
              "      <th></th>\n",
              "      <th></th>\n",
              "      <th></th>\n",
              "      <th></th>\n",
              "      <th></th>\n",
              "      <th></th>\n",
              "      <th></th>\n",
              "      <th></th>\n",
              "    </tr>\n",
              "  </thead>\n",
              "  <tbody>\n",
              "    <tr>\n",
              "      <th>2094382</th>\n",
              "      <td>14</td>\n",
              "      <td>19</td>\n",
              "      <td>1999</td>\n",
              "      <td>11</td>\n",
              "      <td>male</td>\n",
              "      <td>266</td>\n",
              "      <td>0</td>\n",
              "      <td>0</td>\n",
              "      <td>0</td>\n",
              "      <td>0</td>\n",
              "      <td>0</td>\n",
              "      <td>0</td>\n",
              "      <td>0</td>\n",
              "      <td>0</td>\n",
              "    </tr>\n",
              "    <tr>\n",
              "      <th>1192601</th>\n",
              "      <td>14</td>\n",
              "      <td>2</td>\n",
              "      <td>1999</td>\n",
              "      <td>11</td>\n",
              "      <td>female</td>\n",
              "      <td>6</td>\n",
              "      <td>0</td>\n",
              "      <td>0</td>\n",
              "      <td>0</td>\n",
              "      <td>0</td>\n",
              "      <td>0</td>\n",
              "      <td>0</td>\n",
              "      <td>0</td>\n",
              "      <td>0</td>\n",
              "    </tr>\n",
              "    <tr>\n",
              "      <th>2083884</th>\n",
              "      <td>14</td>\n",
              "      <td>16</td>\n",
              "      <td>1999</td>\n",
              "      <td>11</td>\n",
              "      <td>male</td>\n",
              "      <td>13</td>\n",
              "      <td>0</td>\n",
              "      <td>0</td>\n",
              "      <td>0</td>\n",
              "      <td>0</td>\n",
              "      <td>0</td>\n",
              "      <td>0</td>\n",
              "      <td>0</td>\n",
              "      <td>0</td>\n",
              "    </tr>\n",
              "    <tr>\n",
              "      <th>1203168</th>\n",
              "      <td>14</td>\n",
              "      <td>25</td>\n",
              "      <td>1999</td>\n",
              "      <td>12</td>\n",
              "      <td>female</td>\n",
              "      <td>93</td>\n",
              "      <td>0</td>\n",
              "      <td>0</td>\n",
              "      <td>0</td>\n",
              "      <td>0</td>\n",
              "      <td>0</td>\n",
              "      <td>0</td>\n",
              "      <td>0</td>\n",
              "      <td>0</td>\n",
              "    </tr>\n",
              "    <tr>\n",
              "      <th>1733186</th>\n",
              "      <td>14</td>\n",
              "      <td>4</td>\n",
              "      <td>1999</td>\n",
              "      <td>12</td>\n",
              "      <td>male</td>\n",
              "      <td>82</td>\n",
              "      <td>0</td>\n",
              "      <td>0</td>\n",
              "      <td>0</td>\n",
              "      <td>0</td>\n",
              "      <td>0</td>\n",
              "      <td>0</td>\n",
              "      <td>0</td>\n",
              "      <td>0</td>\n",
              "    </tr>\n",
              "    <tr>\n",
              "      <th>...</th>\n",
              "      <td>...</td>\n",
              "      <td>...</td>\n",
              "      <td>...</td>\n",
              "      <td>...</td>\n",
              "      <td>...</td>\n",
              "      <td>...</td>\n",
              "      <td>...</td>\n",
              "      <td>...</td>\n",
              "      <td>...</td>\n",
              "      <td>...</td>\n",
              "      <td>...</td>\n",
              "      <td>...</td>\n",
              "      <td>...</td>\n",
              "      <td>...</td>\n",
              "    </tr>\n",
              "    <tr>\n",
              "      <th>1268299</th>\n",
              "      <td>68</td>\n",
              "      <td>4</td>\n",
              "      <td>1945</td>\n",
              "      <td>4</td>\n",
              "      <td>female</td>\n",
              "      <td>541</td>\n",
              "      <td>2118</td>\n",
              "      <td>341</td>\n",
              "      <td>3996</td>\n",
              "      <td>18089</td>\n",
              "      <td>3505</td>\n",
              "      <td>11887</td>\n",
              "      <td>491</td>\n",
              "      <td>6202</td>\n",
              "    </tr>\n",
              "    <tr>\n",
              "      <th>1256153</th>\n",
              "      <td>18</td>\n",
              "      <td>12</td>\n",
              "      <td>1995</td>\n",
              "      <td>3</td>\n",
              "      <td>female</td>\n",
              "      <td>21</td>\n",
              "      <td>1968</td>\n",
              "      <td>1720</td>\n",
              "      <td>4401</td>\n",
              "      <td>13412</td>\n",
              "      <td>4399</td>\n",
              "      <td>10592</td>\n",
              "      <td>2</td>\n",
              "      <td>2820</td>\n",
              "    </tr>\n",
              "    <tr>\n",
              "      <th>1195943</th>\n",
              "      <td>15</td>\n",
              "      <td>10</td>\n",
              "      <td>1998</td>\n",
              "      <td>5</td>\n",
              "      <td>female</td>\n",
              "      <td>111</td>\n",
              "      <td>2002</td>\n",
              "      <td>1524</td>\n",
              "      <td>11959</td>\n",
              "      <td>12554</td>\n",
              "      <td>11959</td>\n",
              "      <td>11462</td>\n",
              "      <td>0</td>\n",
              "      <td>1092</td>\n",
              "    </tr>\n",
              "    <tr>\n",
              "      <th>1468023</th>\n",
              "      <td>23</td>\n",
              "      <td>11</td>\n",
              "      <td>1990</td>\n",
              "      <td>4</td>\n",
              "      <td>female</td>\n",
              "      <td>416</td>\n",
              "      <td>2560</td>\n",
              "      <td>185</td>\n",
              "      <td>4506</td>\n",
              "      <td>6516</td>\n",
              "      <td>4506</td>\n",
              "      <td>5760</td>\n",
              "      <td>0</td>\n",
              "      <td>756</td>\n",
              "    </tr>\n",
              "    <tr>\n",
              "      <th>1397896</th>\n",
              "      <td>39</td>\n",
              "      <td>15</td>\n",
              "      <td>1974</td>\n",
              "      <td>5</td>\n",
              "      <td>female</td>\n",
              "      <td>397</td>\n",
              "      <td>2049</td>\n",
              "      <td>768</td>\n",
              "      <td>9410</td>\n",
              "      <td>12443</td>\n",
              "      <td>9410</td>\n",
              "      <td>9530</td>\n",
              "      <td>0</td>\n",
              "      <td>2913</td>\n",
              "    </tr>\n",
              "  </tbody>\n",
              "</table>\n",
              "<p>99003 rows × 14 columns</p>\n",
              "</div>"
            ],
            "text/plain": [
              "         age  dob_day  ...  www_likes  www_likes_received\n",
              "userid                 ...                               \n",
              "2094382   14       19  ...          0                   0\n",
              "1192601   14        2  ...          0                   0\n",
              "2083884   14       16  ...          0                   0\n",
              "1203168   14       25  ...          0                   0\n",
              "1733186   14        4  ...          0                   0\n",
              "...      ...      ...  ...        ...                 ...\n",
              "1268299   68        4  ...        491                6202\n",
              "1256153   18       12  ...          2                2820\n",
              "1195943   15       10  ...          0                1092\n",
              "1468023   23       11  ...          0                 756\n",
              "1397896   39       15  ...          0                2913\n",
              "\n",
              "[99003 rows x 14 columns]"
            ]
          },
          "metadata": {
            "tags": []
          },
          "execution_count": 116
        }
      ]
    },
    {
      "cell_type": "code",
      "metadata": {
        "id": "DXhzB1s7Yx0Y",
        "colab_type": "code",
        "colab": {}
      },
      "source": [
        "import matplotlib.pyplot as plt\n",
        "import numpy as np"
      ],
      "execution_count": 0,
      "outputs": []
    },
    {
      "cell_type": "code",
      "metadata": {
        "id": "hmwB-Q84Zpa2",
        "colab_type": "code",
        "outputId": "1b9a876f-1f36-4feb-807e-850dd21b2396",
        "colab": {
          "base_uri": "https://localhost:8080/",
          "height": 282
        }
      },
      "source": [
        "plt.plot()"
      ],
      "execution_count": 118,
      "outputs": [
        {
          "output_type": "execute_result",
          "data": {
            "text/plain": [
              "[]"
            ]
          },
          "metadata": {
            "tags": []
          },
          "execution_count": 118
        },
        {
          "output_type": "display_data",
          "data": {
            "image/png": "[encoded data removed]",
            "text/plain": [
              "<Figure size 432x288 with 1 Axes>"
            ]
          },
          "metadata": {
            "tags": []
          }
        }
      ]
    },
    {
      "cell_type": "code",
      "metadata": {
        "id": "BbsUhPnNZ6QS",
        "colab_type": "code",
        "outputId": "5383af53-83ed-4e26-c18e-31066d4d8e38",
        "colab": {
          "base_uri": "https://localhost:8080/",
          "height": 314
        }
      },
      "source": [
        "a=fb.head(15)\n",
        "a.plot(kind='bar')\n",
        "plt.show()"
      ],
      "execution_count": 0,
      "outputs": [
        {
          "output_type": "display_data",
          "data": {
            "image/png": "[encoded data removed]",
            "text/plain": [
              "<Figure size 432x288 with 1 Axes>"
            ]
          },
          "metadata": {
            "tags": []
          }
        }
      ]
    },
    {
      "cell_type": "code",
      "metadata": {
        "id": "egsxSVOLauQZ",
        "colab_type": "code",
        "outputId": "9a0d7ebb-b2a3-4547-c6a1-c66edff09dbc",
        "colab": {
          "base_uri": "https://localhost:8080/",
          "height": 314
        }
      },
      "source": [
        "b=fb.tail(15)\n",
        "b.plot(kind=\"bar\")\n",
        "plt.show()"
      ],
      "execution_count": 119,
      "outputs": [
        {
          "output_type": "display_data",
          "data": {
            "image/png": "[encoded data removed]",
            "text/plain": [
              "<Figure size 432x288 with 1 Axes>"
            ]
          },
          "metadata": {
            "tags": []
          }
        }
      ]
    },
    {
      "cell_type": "code",
      "metadata": {
        "id": "tXv-Fh-ja8RI",
        "colab_type": "code",
        "outputId": "4b99703f-0e87-49f4-d6bf-471e33c2a708",
        "colab": {
          "base_uri": "https://localhost:8080/",
          "height": 265
        }
      },
      "source": [
        "c=fb.mean()\n",
        "c.plot(kind=\"hist\")\n",
        "plt.show()\n"
      ],
      "execution_count": 120,
      "outputs": [
        {
          "output_type": "display_data",
          "data": {
            "image/png": "[encoded data removed]",
            "text/plain": [
              "<Figure size 432x288 with 1 Axes>"
            ]
          },
          "metadata": {
            "tags": []
          }
        }
      ]
    },
    {
      "cell_type": "code",
      "metadata": {
        "id": "Qkm9Zt_GbQrA",
        "colab_type": "code",
        "outputId": "ab70cd22-0eac-436f-9a53-064e59b30b2f",
        "colab": {
          "base_uri": "https://localhost:8080/",
          "height": 266
        }
      },
      "source": [
        "d=fb.std()\n",
        "d.plot(linestyle=\"--\")\n",
        "plt.show()\n",
        "\n"
      ],
      "execution_count": 121,
      "outputs": [
        {
          "output_type": "display_data",
          "data": {
            "image/png": "[encoded data removed]",
            "text/plain": [
              "<Figure size 432x288 with 1 Axes>"
            ]
          },
          "metadata": {
            "tags": []
          }
        }
      ]
    },
    {
      "cell_type": "markdown",
      "metadata": {
        "id": "SeB_cjnUoZp1",
        "colab_type": "text"
      },
      "source": [
        "##SCATTER PLOT"
      ]
    },
    {
      "cell_type": "code",
      "metadata": {
        "id": "aPnIxKFYn_Hr",
        "colab_type": "code",
        "outputId": "376bb1ff-0bc4-4e74-cc4d-09997543783a",
        "colab": {
          "base_uri": "https://localhost:8080/",
          "height": 296
        }
      },
      "source": [
        "fb.plot(x='likes',y='friend_count',kind='scatter')"
      ],
      "execution_count": 122,
      "outputs": [
        {
          "output_type": "execute_result",
          "data": {
            "text/plain": [
              "<matplotlib.axes._subplots.AxesSubplot at 0x7f734c7a0cf8>"
            ]
          },
          "metadata": {
            "tags": []
          },
          "execution_count": 122
        },
        {
          "output_type": "display_data",
          "data": {
            "image/png": "[encoded data removed]",
            "text/plain": [
              "<Figure size 432x288 with 1 Axes>"
            ]
          },
          "metadata": {
            "tags": []
          }
        }
      ]
    },
    {
      "cell_type": "markdown",
      "metadata": {
        "id": "C66E7Mv4oejV",
        "colab_type": "text"
      },
      "source": [
        "##BOXPLOT"
      ]
    },
    {
      "cell_type": "code",
      "metadata": {
        "id": "vs6S5guqoh2b",
        "colab_type": "code",
        "outputId": "dd7abbfe-c623-4073-9403-934fe5d43f41",
        "colab": {
          "base_uri": "https://localhost:8080/",
          "height": 282
        }
      },
      "source": [
        "fb.plot(x='friend_count',y='likes',kind='box')"
      ],
      "execution_count": 123,
      "outputs": [
        {
          "output_type": "execute_result",
          "data": {
            "text/plain": [
              "<matplotlib.axes._subplots.AxesSubplot at 0x7f734c4e7438>"
            ]
          },
          "metadata": {
            "tags": []
          },
          "execution_count": 123
        },
        {
          "output_type": "display_data",
          "data": {
            "image/png": "[encoded data removed]",
            "text/plain": [
              "<Figure size 432x288 with 1 Axes>"
            ]
          },
          "metadata": {
            "tags": []
          }
        }
      ]
    },
    {
      "cell_type": "markdown",
      "metadata": {
        "id": "2XrROEsysqI5",
        "colab_type": "text"
      },
      "source": [
        "**Q1:** How to get total likes got by all users using this data?"
      ]
    },
    {
      "cell_type": "code",
      "metadata": {
        "id": "kEkXWjmWu2Zb",
        "colab_type": "code",
        "colab": {
          "base_uri": "https://localhost:8080/",
          "height": 34
        },
        "outputId": "17255f72-3a1e-48f4-ed6f-0c56ada88259"
      },
      "source": [
        "fb['likes'].sum()"
      ],
      "execution_count": 124,
      "outputs": [
        {
          "output_type": "execute_result",
          "data": {
            "text/plain": [
              "15452268"
            ]
          },
          "metadata": {
            "tags": []
          },
          "execution_count": 124
        }
      ]
    },
    {
      "cell_type": "markdown",
      "metadata": {
        "id": "DPulYVkyvPZb",
        "colab_type": "text"
      },
      "source": [
        "**Q2:** how can we get dimensions of a dataframe?"
      ]
    },
    {
      "cell_type": "code",
      "metadata": {
        "id": "wjXvTfhLx6eP",
        "colab_type": "code",
        "colab": {
          "base_uri": "https://localhost:8080/",
          "height": 34
        },
        "outputId": "9bc7e4a5-e78d-4d4d-c536-aedde28511db"
      },
      "source": [
        "fb.shape"
      ],
      "execution_count": 126,
      "outputs": [
        {
          "output_type": "execute_result",
          "data": {
            "text/plain": [
              "(99003, 14)"
            ]
          },
          "metadata": {
            "tags": []
          },
          "execution_count": 126
        }
      ]
    },
    {
      "cell_type": "markdown",
      "metadata": {
        "id": "JnJbLI_uyNGj",
        "colab_type": "text"
      },
      "source": [
        "**Q3**  find the maximim values in given data?"
      ]
    },
    {
      "cell_type": "code",
      "metadata": {
        "id": "WJCH0iyaydFT",
        "colab_type": "code",
        "colab": {
          "base_uri": "https://localhost:8080/",
          "height": 252
        },
        "outputId": "0a5cf5f2-0902-4d47-92a6-41abf14f0e45"
      },
      "source": [
        "fb.max()"
      ],
      "execution_count": 127,
      "outputs": [
        {
          "output_type": "execute_result",
          "data": {
            "text/plain": [
              "age                         113\n",
              "dob_day                      31\n",
              "dob_year                   2000\n",
              "dob_month                    12\n",
              "gender                     male\n",
              "friend_count               4923\n",
              "friendships_initiated      4144\n",
              "likes                     25111\n",
              "likes_received           261197\n",
              "mobile_likes              25111\n",
              "mobile_likes_received    138561\n",
              "www_likes                 14865\n",
              "www_likes_received       129953\n",
              "dtype: object"
            ]
          },
          "metadata": {
            "tags": []
          },
          "execution_count": 127
        }
      ]
    },
    {
      "cell_type": "markdown",
      "metadata": {
        "id": "o7mHq5EAyhM4",
        "colab_type": "text"
      },
      "source": [
        "**Q4** Find the minimum values in given data?"
      ]
    },
    {
      "cell_type": "code",
      "metadata": {
        "id": "tB5yWTT6yufl",
        "colab_type": "code",
        "colab": {
          "base_uri": "https://localhost:8080/",
          "height": 252
        },
        "outputId": "96f34f2c-a007-4370-e5f2-665871c91101"
      },
      "source": [
        "fb.min()"
      ],
      "execution_count": 128,
      "outputs": [
        {
          "output_type": "execute_result",
          "data": {
            "text/plain": [
              "age                                 13\n",
              "dob_day                              1\n",
              "dob_year                          1900\n",
              "dob_month                            1\n",
              "gender                   Not available\n",
              "friend_count                         0\n",
              "friendships_initiated                0\n",
              "likes                                0\n",
              "likes_received                       0\n",
              "mobile_likes                         0\n",
              "mobile_likes_received                0\n",
              "www_likes                            0\n",
              "www_likes_received                   0\n",
              "dtype: object"
            ]
          },
          "metadata": {
            "tags": []
          },
          "execution_count": 128
        }
      ]
    },
    {
      "cell_type": "markdown",
      "metadata": {
        "id": "Oxz60CJJy0Yf",
        "colab_type": "text"
      },
      "source": [
        "**Q5** Find the cumilative sum of friend_count indataframe?"
      ]
    },
    {
      "cell_type": "code",
      "metadata": {
        "id": "Q8aYG6sfyzhY",
        "colab_type": "code",
        "colab": {
          "base_uri": "https://localhost:8080/",
          "height": 218
        },
        "outputId": "b00a7d3b-97a3-47cc-d923-2ccb82f4e230"
      },
      "source": [
        "fb['friend_count'].cumsum()"
      ],
      "execution_count": 5,
      "outputs": [
        {
          "output_type": "execute_result",
          "data": {
            "text/plain": [
              "0               0\n",
              "1               0\n",
              "2               0\n",
              "3               0\n",
              "4               0\n",
              "           ...   \n",
              "98998    19430738\n",
              "98999    19432706\n",
              "99000    19434708\n",
              "99001    19437268\n",
              "99002    19439317\n",
              "Name: friend_count, Length: 99003, dtype: int64"
            ]
          },
          "metadata": {
            "tags": []
          },
          "execution_count": 5
        }
      ]
    },
    {
      "cell_type": "markdown",
      "metadata": {
        "id": "HPCsSgnlz2AP",
        "colab_type": "text"
      },
      "source": [
        "**Q6**  Draw a bargraph for first 15 rows?"
      ]
    },
    {
      "cell_type": "code",
      "metadata": {
        "id": "b350v9b-0Y82",
        "colab_type": "code",
        "colab": {
          "base_uri": "https://localhost:8080/",
          "height": 278
        },
        "outputId": "dcdd1cc8-cd88-4b01-eec3-4cf44acc46c7"
      },
      "source": [
        "a=fb.head(15)\n",
        "a.plot(kind='bar')\n",
        "plt.show()"
      ],
      "execution_count": 7,
      "outputs": [
        {
          "output_type": "display_data",
          "data": {
            "image/png": "[encoded data removed]",
            "text/plain": [
              "<Figure size 432x288 with 1 Axes>"
            ]
          },
          "metadata": {
            "tags": []
          }
        }
      ]
    },
    {
      "cell_type": "markdown",
      "metadata": {
        "colab_type": "text",
        "id": "-Rh3-Vt9Nev9"
      },
      "source": [
        "## More Resources\n",
        "\n",
        "### Working with Notebooks in Colab\n",
        "- [Overview of Colaboratory](/notebooks/basic_features_overview.ipynb)\n",
        "- [Guide to Markdown](/notebooks/markdown_guide.ipynb)\n",
        "- [Importing libraries and installing dependencies](/notebooks/snippets/importing_libraries.ipynb)\n",
        "- [Saving and loading notebooks in GitHub](https://colab.research.google.com/github/googlecolab/colabtools/blob/master/notebooks/colab-github-demo.ipynb)\n",
        "- [Interactive forms](/notebooks/forms.ipynb)\n",
        "- [Interactive widgets](/notebooks/widgets.ipynb)\n",
        "- <img src=\"/img/new.png\" height=\"20px\" align=\"left\" hspace=\"4px\" alt=\"New\"></img>\n",
        " [TensorFlow 2 in Colab](/notebooks/tensorflow_version.ipynb)\n",
        "\n",
        "<a name=\"working-with-data\"></a>\n",
        "### Working with Data\n",
        "- [Loading data: Drive, Sheets, and Google Cloud Storage](/notebooks/io.ipynb) \n",
        "- [Charts: visualizing data](/notebooks/charts.ipynb)\n",
        "- [Getting started with BigQuery](/notebooks/bigquery.ipynb)\n",
        "\n",
        "### Machine Learning Crash Course\n",
        "These are a few of the notebooks from Google's online Machine Learning course. See the [full course website](https://developers.google.com/machine-learning/crash-course/) for more.\n",
        "- [Intro to Pandas](/notebooks/mlcc/intro_to_pandas.ipynb)\n",
        "- [Tensorflow concepts](/notebooks/mlcc/tensorflow_programming_concepts.ipynb)\n",
        "- [First steps with TensorFlow](/notebooks/mlcc/first_steps_with_tensor_flow.ipynb)\n",
        "- [Intro to neural nets](/notebooks/mlcc/intro_to_neural_nets.ipynb)\n",
        "- [Intro to sparse data and embeddings](/notebooks/mlcc/intro_to_sparse_data_and_embeddings.ipynb)\n",
        "\n",
        "<a name=\"using-accelerated-hardware\"></a>\n",
        "### Using Accelerated Hardware\n",
        "- [TensorFlow with GPUs](/notebooks/gpu.ipynb)\n",
        "- [TensorFlow with TPUs](/notebooks/tpu.ipynb)"
      ]
    },
    {
      "cell_type": "markdown",
      "metadata": {
        "colab_type": "text",
        "id": "P-H6Lw1vyNNd"
      },
      "source": [
        "<a name=\"machine-learning-examples\"></a>\n",
        "\n",
        "## Machine Learning Examples\n",
        "\n",
        "To see end-to-end examples of the interactive machine learning analyses that Colaboratory makes possible, check out the [Seedbank](https://research.google.com/seedbank/) project.\n",
        "\n",
        "A few featured examples:\n",
        "\n",
        "- [Neural Style Transfer](https://research.google.com/seedbank/seed/neural_style_transfer_with_tfkeras): Use deep learning to transfer style between images.\n",
        "- [EZ NSynth](https://research.google.com/seedbank/seed/ez_nsynth): Synthesize audio with WaveNet auto-encoders.\n",
        "- [Fashion MNIST with Keras and TPUs](https://research.google.com/seedbank/seed/fashion_mnist_with_keras_and_tpus): Classify fashion-related images with deep learning.\n",
        "- [DeepDream](https://research.google.com/seedbank/seed/deepdream): Produce DeepDream images from your own photos.\n",
        "- [Convolutional VAE](https://research.google.com/seedbank/seed/convolutional_vae): Create a generative model of handwritten digits."
      ]
    }
  ]
}